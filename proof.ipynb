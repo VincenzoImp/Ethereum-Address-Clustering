{
 "cells": [
  {
   "cell_type": "code",
   "execution_count": 62,
   "metadata": {},
   "outputs": [],
   "source": [
    "import pandas as pd\n",
    "from web3 import Web3\n",
    "from web3.middleware import geth_poa_middleware"
   ]
  },
  {
   "cell_type": "code",
   "execution_count": 63,
   "metadata": {},
   "outputs": [],
   "source": [
    "chain = 'eth'\n",
    "query_mode = 'http'\n",
    "w3 = None\n",
    "data = {\n",
    "    'eth': {\n",
    "        'rpc': '/eth/eth_node/node/geth.ipc',\n",
    "        'http': 'https://mainnet.infura.io/v3/e0a4e987f3ff4f4fa9aa21bb08f09ef5',\n",
    "        'datafile': 'data/one_day_exit_scam_eth.csv',\n",
    "        'edgefile': 'data/new_tx_eth.csv',\n",
    "        'nodefile': 'data/new_address_eth.csv'\n",
    "    },\n",
    "    'bsc': {\n",
    "        'rpc': '',\n",
    "        'http': 'https://bsc-dataseed.binance.org/',\n",
    "        'datafile': 'one_day_exit_scam_bsc.csv',\n",
    "        'edgefile': 'data/new_tx_bsc.csv',\n",
    "        'nodefile': 'data/new_address_bsc.csv'\n",
    "    }\n",
    "}"
   ]
  },
  {
   "cell_type": "code",
   "execution_count": 64,
   "metadata": {},
   "outputs": [],
   "source": [
    "def get_w3():\n",
    "    tmp = data[chain][query_mode]\n",
    "    w3_data = {\n",
    "        'eth': {\n",
    "            'rpc': Web3(Web3.IPCProvider(tmp)),\n",
    "            'http': Web3(Web3.HTTPProvider(tmp))\n",
    "        },\n",
    "        'bsc': {\n",
    "            'rpc': None,\n",
    "            'http': Web3(Web3.HTTPProvider(tmp)).middleware_onion.inject(geth_poa_middleware, layer=0)\n",
    "        } \n",
    "    }\n",
    "    return w3_data[chain][query_mode]"
   ]
  },
  {
   "cell_type": "code",
   "execution_count": 65,
   "metadata": {},
   "outputs": [],
   "source": [
    "def preprocessing():\n",
    "    datafile = data[chain]['datafile']\n",
    "    df = pd.read_csv(datafile)\n",
    "    address_df = df.\\\n",
    "        sort_values([\"block_number_remove\"]).\\\n",
    "        drop_duplicates(subset=[\"from\"], keep=\"last\").\\\n",
    "        reset_index(drop=True)\\\n",
    "        [[\"from\", \"block_number_remove\"]].\\\n",
    "        rename({\"from\":\"address\", \"block_number_remove\":\"use_untill\"}, axis=\"columns\")\n",
    "    address_df[\"level\"] = 0\n",
    "    return address_df"
   ]
  },
  {
   "cell_type": "code",
   "execution_count": 66,
   "metadata": {},
   "outputs": [],
   "source": [
    "import requests\n",
    "\n",
    "url = \"https://eth-mainnet.g.alchemy.com/v2/demo\"\n",
    "\n",
    "payload = {\n",
    "    \"id\": 1,\n",
    "    \"jsonrpc\": \"2.0\",\n",
    "    \"method\": \"alchemy_getAssetTransfers\",\n",
    "    \"params\": [\n",
    "        {\n",
    "            \"fromBlock\": \"0x0\",\n",
    "            \"toBlock\": \"latest\",\n",
    "            \"category\": [\"external\"],\n",
    "            \"withMetadata\": False,\n",
    "            \"excludeZeroValue\": True,\n",
    "            \"maxCount\": \"0x3e8\",\n",
    "            \"toAddress\": \"\"\n",
    "        }\n",
    "    ]\n",
    "}\n",
    "headers = {\n",
    "    \"accept\": \"application/json\",\n",
    "    \"content-type\": \"application/json\"\n",
    "}"
   ]
  },
  {
   "cell_type": "code",
   "execution_count": 67,
   "metadata": {},
   "outputs": [],
   "source": [
    "w3 = get_w3()\n",
    "address_df = preprocessing()\n",
    "address_df.to_csv(data[chain]['nodefile'], index=False)\n",
    "address_df.to_csv('data/tocompute.csv', index=False)\n",
    "with open(data[chain]['edgefile'], \"w\", encoding=\"UTF8\") as tx_file:\n",
    "    tx_file.write(\"from,to,value,effectiveGasPrice,gasUsed,hash,input,blockNumber,level,status\\n\")"
   ]
  },
  {
   "cell_type": "code",
   "execution_count": 60,
   "metadata": {},
   "outputs": [],
   "source": [
    "def multi():\n",
    "    address_df = set(preprocessing()['address'].values)\n",
    "    curr_level_address_df = pd.read_csv('data/tocompute.csv')\n",
    "    new_level = 1\n",
    "    #generate new level of edges and nodes\n",
    "    for index, row in curr_level_address_df.iterrows():\n",
    "        payload['params'][0]['toAddress'] = row[\"address\"]\n",
    "        payload['params'][0]['toBlock'] = hex(row[\"use_untill\"])\n",
    "        try:\n",
    "            response = requests.post(url, json=payload, headers=headers)\n",
    "            history_txs = response.json()['result']['transfers']\n",
    "            txlist = []\n",
    "            adlist = []\n",
    "            for tx in history_txs:\n",
    "                tx = {**w3.eth.get_transaction(tx['hash']), **w3.eth.get_transaction_receipt(tx['hash'])}\n",
    "                txlist.append(\"{},{},{},{},{},{},{},{},{},{}\\n\".format(\n",
    "                    tx[\"from\"], tx[\"to\"], w3.fromWei(tx[\"value\"], 'ether'), tx[\"effectiveGasPrice\"], tx[\"gasUsed\"], tx[\"hash\"].hex(), tx[\"input\"][:10], tx[\"blockNumber\"], new_level, tx[\"status\"]\n",
    "                ))\n",
    "                if tx['from'] not in address_df:\n",
    "                    adlist.append(\"{},{},{}\\n\".format(\n",
    "                        tx[\"from\"], tx[\"blockNumber\"], new_level\n",
    "                    ))\n",
    "        except:\n",
    "            return False\n",
    "\n",
    "        with open(data[chain]['edgefile'], \"a\", encoding=\"UTF8\") as tx_file:\n",
    "                for string in txlist:\n",
    "                    tx_file.write(string)\n",
    "        with open(data[chain]['nodefile'], \"a\", encoding=\"UTF8\") as ad_file:\n",
    "            for string in adlist:\n",
    "                ad_file.write(string)\n",
    "\n",
    "        tmp_df = curr_level_address_df.copy()\n",
    "        tmp_df.drop(index)\n",
    "        tmp_df.to_csv('data/tocompute.csv', index=False)\n",
    "    return True"
   ]
  },
  {
   "cell_type": "code",
   "execution_count": 61,
   "metadata": {},
   "outputs": [
    {
     "name": "stdout",
     "output_type": "stream",
     "text": [
      "(2, 3)\n",
      "(134, 3)\n",
      "(240, 3)\n"
     ]
    },
    {
     "ename": "KeyError",
     "evalue": "'status'",
     "output_type": "error",
     "traceback": [
      "\u001b[0;31m---------------------------------------------------------------------------\u001b[0m",
      "\u001b[0;31mKeyError\u001b[0m                                  Traceback (most recent call last)",
      "\u001b[1;32m/home/vincenzo/Documents/GitHub/Ethereum-Address-Clustering/new_script.ipynb Cell 7\u001b[0m in \u001b[0;36m<cell line: 1>\u001b[0;34m()\u001b[0m\n\u001b[0;32m----> <a href='vscode-notebook-cell:/home/vincenzo/Documents/GitHub/Ethereum-Address-Clustering/new_script.ipynb#W6sZmlsZQ%3D%3D?line=0'>1</a>\u001b[0m multi(depth\u001b[39m=\u001b[39;49m\u001b[39m1\u001b[39;49m, store_mode\u001b[39m=\u001b[39;49m\u001b[39m'\u001b[39;49m\u001b[39mw\u001b[39;49m\u001b[39m'\u001b[39;49m)\n",
      "\u001b[1;32m/home/vincenzo/Documents/GitHub/Ethereum-Address-Clustering/new_script.ipynb Cell 7\u001b[0m in \u001b[0;36mmulti\u001b[0;34m(depth, store_mode)\u001b[0m\n\u001b[1;32m     <a href='vscode-notebook-cell:/home/vincenzo/Documents/GitHub/Ethereum-Address-Clustering/new_script.ipynb#W6sZmlsZQ%3D%3D?line=31'>32</a>\u001b[0m tx \u001b[39m=\u001b[39m {\u001b[39m*\u001b[39m\u001b[39m*\u001b[39md1, \u001b[39m*\u001b[39m\u001b[39m*\u001b[39md2}\n\u001b[1;32m     <a href='vscode-notebook-cell:/home/vincenzo/Documents/GitHub/Ethereum-Address-Clustering/new_script.ipynb#W6sZmlsZQ%3D%3D?line=32'>33</a>\u001b[0m \u001b[39mwith\u001b[39;00m \u001b[39mopen\u001b[39m(data[chain][\u001b[39m'\u001b[39m\u001b[39medgefile\u001b[39m\u001b[39m'\u001b[39m], \u001b[39m\"\u001b[39m\u001b[39ma\u001b[39m\u001b[39m\"\u001b[39m, encoding\u001b[39m=\u001b[39m\u001b[39m\"\u001b[39m\u001b[39mUTF8\u001b[39m\u001b[39m\"\u001b[39m) \u001b[39mas\u001b[39;00m tx_file:\n\u001b[1;32m     <a href='vscode-notebook-cell:/home/vincenzo/Documents/GitHub/Ethereum-Address-Clustering/new_script.ipynb#W6sZmlsZQ%3D%3D?line=33'>34</a>\u001b[0m     tx_file\u001b[39m.\u001b[39mwrite(\u001b[39m\"\u001b[39m\u001b[39m{}\u001b[39;00m\u001b[39m,\u001b[39m\u001b[39m{}\u001b[39;00m\u001b[39m,\u001b[39m\u001b[39m{}\u001b[39;00m\u001b[39m,\u001b[39m\u001b[39m{}\u001b[39;00m\u001b[39m,\u001b[39m\u001b[39m{}\u001b[39;00m\u001b[39m,\u001b[39m\u001b[39m{}\u001b[39;00m\u001b[39m,\u001b[39m\u001b[39m{}\u001b[39;00m\u001b[39m,\u001b[39m\u001b[39m{}\u001b[39;00m\u001b[39m,\u001b[39m\u001b[39m{}\u001b[39;00m\u001b[39m,\u001b[39m\u001b[39m{}\u001b[39;00m\u001b[39m\\n\u001b[39;00m\u001b[39m\"\u001b[39m\u001b[39m.\u001b[39mformat(\n\u001b[0;32m---> <a href='vscode-notebook-cell:/home/vincenzo/Documents/GitHub/Ethereum-Address-Clustering/new_script.ipynb#W6sZmlsZQ%3D%3D?line=34'>35</a>\u001b[0m         tx[\u001b[39m\"\u001b[39m\u001b[39mfrom\u001b[39m\u001b[39m\"\u001b[39m], tx[\u001b[39m\"\u001b[39m\u001b[39mto\u001b[39m\u001b[39m\"\u001b[39m], w3\u001b[39m.\u001b[39mfromWei(tx[\u001b[39m\"\u001b[39m\u001b[39mvalue\u001b[39m\u001b[39m\"\u001b[39m], \u001b[39m'\u001b[39m\u001b[39mether\u001b[39m\u001b[39m'\u001b[39m), tx[\u001b[39m\"\u001b[39m\u001b[39meffectiveGasPrice\u001b[39m\u001b[39m\"\u001b[39m], tx[\u001b[39m\"\u001b[39m\u001b[39mgasUsed\u001b[39m\u001b[39m\"\u001b[39m], tx[\u001b[39m\"\u001b[39m\u001b[39mhash\u001b[39m\u001b[39m\"\u001b[39m]\u001b[39m.\u001b[39mhex(), tx[\u001b[39m\"\u001b[39m\u001b[39minput\u001b[39m\u001b[39m\"\u001b[39m][:\u001b[39m10\u001b[39m], tx[\u001b[39m\"\u001b[39m\u001b[39mblockNumber\u001b[39m\u001b[39m\"\u001b[39m], new_level, tx[\u001b[39m\"\u001b[39;49m\u001b[39mstatus\u001b[39;49m\u001b[39m\"\u001b[39;49m]\n\u001b[1;32m     <a href='vscode-notebook-cell:/home/vincenzo/Documents/GitHub/Ethereum-Address-Clustering/new_script.ipynb#W6sZmlsZQ%3D%3D?line=35'>36</a>\u001b[0m         ))\n\u001b[1;32m     <a href='vscode-notebook-cell:/home/vincenzo/Documents/GitHub/Ethereum-Address-Clustering/new_script.ipynb#W6sZmlsZQ%3D%3D?line=36'>37</a>\u001b[0m \u001b[39mif\u001b[39;00m address_to_add \u001b[39mnot\u001b[39;00m \u001b[39min\u001b[39;00m new_level_address_set:\n\u001b[1;32m     <a href='vscode-notebook-cell:/home/vincenzo/Documents/GitHub/Ethereum-Address-Clustering/new_script.ipynb#W6sZmlsZQ%3D%3D?line=37'>38</a>\u001b[0m     new_level_address_set\u001b[39m.\u001b[39madd(address_to_add)\n",
      "\u001b[0;31mKeyError\u001b[0m: 'status'"
     ]
    }
   ],
   "source": [
    "exit = multi()\n",
    "while exit == False:\n",
    "    multi()"
   ]
  },
  {
   "cell_type": "code",
   "execution_count": null,
   "metadata": {},
   "outputs": [
    {
     "name": "stdout",
     "output_type": "stream",
     "text": [
      "1\n",
      "1\n",
      "1\n"
     ]
    }
   ],
   "source": [
    "\n",
    "import requests\n",
    "\n",
    "url = \"https://eth-mainnet.g.alchemy.com/v2/demo\"\n",
    "\n",
    "payload = {\n",
    "    \"id\": 1,\n",
    "    \"jsonrpc\": \"2.0\",\n",
    "    \"method\": \"alchemy_getAssetTransfers\",\n",
    "    \"params\": [\n",
    "        {\n",
    "            \"fromBlock\": \"0x0\",\n",
    "            \"toBlock\": \"latest\",\n",
    "            \"category\": [\"external\"],\n",
    "            \"withMetadata\": False,\n",
    "            \"excludeZeroValue\": True,\n",
    "            \"maxCount\": \"0x3e8\",\n",
    "            \"toAddress\": \"0x3e49460D0e95E645CFe61Fa36fe7C51FbEf40f41\"\n",
    "        }\n",
    "    ]\n",
    "}\n",
    "headers = {\n",
    "    \"accept\": \"application/json\",\n",
    "    \"content-type\": \"application/json\"\n",
    "}\n",
    "\n",
    "\n",
    "\n",
    "response = requests.post(url, json=payload, headers=headers)\n",
    "while response.status_code != 200:\n",
    "    response = requests.post(url, json=payload, headers=headers)\n",
    "history_txs = response.json()['result']['transfers']\n",
    "for tx in history_txs:\n",
    "    tx = {**w3.eth.get_transaction(tx['hash']), **w3.eth.get_transaction_receipt(tx['hash'])}\n",
    "    try:\n",
    "        print(tx['status'])\n",
    "    except:\n",
    "        print(tx)"
   ]
  },
  {
   "cell_type": "code",
   "execution_count": null,
   "metadata": {},
   "outputs": [
    {
     "data": {
      "text/plain": [
       "1"
      ]
     },
     "execution_count": 54,
     "metadata": {},
     "output_type": "execute_result"
    }
   ],
   "source": [
    "len({1:1})"
   ]
  }
 ],
 "metadata": {
  "kernelspec": {
   "display_name": "Python 3.10.6 64-bit",
   "language": "python",
   "name": "python3"
  },
  "language_info": {
   "codemirror_mode": {
    "name": "ipython",
    "version": 3
   },
   "file_extension": ".py",
   "mimetype": "text/x-python",
   "name": "python",
   "nbconvert_exporter": "python",
   "pygments_lexer": "ipython3",
   "version": "3.10.6"
  },
  "orig_nbformat": 4,
  "vscode": {
   "interpreter": {
    "hash": "916dbcbb3f70747c44a77c7bcd40155683ae19c65e1c03b4aa3499c5328201f1"
   }
  }
 },
 "nbformat": 4,
 "nbformat_minor": 2
}
