{
 "cells": [
  {
   "cell_type": "code",
   "execution_count": 1,
   "metadata": {},
   "outputs": [
    {
     "name": "stdout",
     "output_type": "stream",
     "text": [
      "\u001b[31mERROR: pip's dependency resolver does not currently take into account all the packages that are installed. This behaviour is the source of the following dependency conflicts.\n",
      "qiskit-ibmq-provider 0.19.2 requires websockets>=10.0; python_version >= \"3.7\", but you have websockets 9.1 which is incompatible.\u001b[0m\n",
      "Note: you may need to restart the kernel to use updated packages.\n",
      "Note: you may need to restart the kernel to use updated packages.\n"
     ]
    }
   ],
   "source": [
    "%pip install web3 -q\n",
    "%pip install pandas -q"
   ]
  },
  {
   "cell_type": "code",
   "execution_count": 2,
   "metadata": {},
   "outputs": [
    {
     "ename": "ContextualVersionConflict",
     "evalue": "(websockets 10.4 (/home/vincenzo/anaconda3/lib/python3.9/site-packages), Requirement.parse('websockets<10,>=9.1'), {'web3'})",
     "output_type": "error",
     "traceback": [
      "\u001b[0;31m---------------------------------------------------------------------------\u001b[0m",
      "\u001b[0;31mContextualVersionConflict\u001b[0m                 Traceback (most recent call last)",
      "Input \u001b[0;32mIn [2]\u001b[0m, in \u001b[0;36m<cell line: 2>\u001b[0;34m()\u001b[0m\n\u001b[1;32m      1\u001b[0m \u001b[38;5;28;01mimport\u001b[39;00m \u001b[38;5;21;01mpandas\u001b[39;00m \u001b[38;5;28;01mas\u001b[39;00m \u001b[38;5;21;01mpd\u001b[39;00m\n\u001b[0;32m----> 2\u001b[0m \u001b[38;5;28;01mfrom\u001b[39;00m \u001b[38;5;21;01mweb3\u001b[39;00m \u001b[38;5;28;01mimport\u001b[39;00m Web3\n\u001b[1;32m      3\u001b[0m \u001b[38;5;28;01mfrom\u001b[39;00m \u001b[38;5;21;01mweb3\u001b[39;00m\u001b[38;5;21;01m.\u001b[39;00m\u001b[38;5;21;01mmiddleware\u001b[39;00m \u001b[38;5;28;01mimport\u001b[39;00m geth_poa_middleware\n\u001b[1;32m      4\u001b[0m \u001b[38;5;28;01mfrom\u001b[39;00m \u001b[38;5;21;01mmultiprocessing\u001b[39;00m \u001b[38;5;28;01mimport\u001b[39;00m Pool\n",
      "File \u001b[0;32m~/anaconda3/lib/python3.9/site-packages/web3/__init__.py:40\u001b[0m, in \u001b[0;36m<module>\u001b[0;34m\u001b[0m\n\u001b[1;32m     34\u001b[0m \u001b[38;5;28;01mif\u001b[39;00m sys\u001b[38;5;241m.\u001b[39mversion_info \u001b[38;5;241m<\u001b[39m (\u001b[38;5;241m3\u001b[39m, \u001b[38;5;241m5\u001b[39m):\n\u001b[1;32m     35\u001b[0m     \u001b[38;5;28;01mraise\u001b[39;00m \u001b[38;5;167;01mEnvironmentError\u001b[39;00m(\n\u001b[1;32m     36\u001b[0m         \u001b[38;5;124m\"\u001b[39m\u001b[38;5;124mPython 3.5 or above is required. \u001b[39m\u001b[38;5;124m\"\u001b[39m\n\u001b[1;32m     37\u001b[0m         \u001b[38;5;124m\"\u001b[39m\u001b[38;5;124mNote that support for Python 3.5 will be removed in web3.py v5\u001b[39m\u001b[38;5;124m\"\u001b[39m)\n\u001b[0;32m---> 40\u001b[0m __version__ \u001b[38;5;241m=\u001b[39m \u001b[43mpkg_resources\u001b[49m\u001b[38;5;241;43m.\u001b[39;49m\u001b[43mget_distribution\u001b[49m\u001b[43m(\u001b[49m\u001b[38;5;124;43m\"\u001b[39;49m\u001b[38;5;124;43mweb3\u001b[39;49m\u001b[38;5;124;43m\"\u001b[39;49m\u001b[43m)\u001b[49m\u001b[38;5;241m.\u001b[39mversion\n\u001b[1;32m     42\u001b[0m __all__ \u001b[38;5;241m=\u001b[39m [\n\u001b[1;32m     43\u001b[0m     \u001b[38;5;124m\"\u001b[39m\u001b[38;5;124m__version__\u001b[39m\u001b[38;5;124m\"\u001b[39m,\n\u001b[1;32m     44\u001b[0m     \u001b[38;5;124m\"\u001b[39m\u001b[38;5;124mWeb3\u001b[39m\u001b[38;5;124m\"\u001b[39m,\n\u001b[0;32m   (...)\u001b[0m\n\u001b[1;32m     51\u001b[0m     \u001b[38;5;124m\"\u001b[39m\u001b[38;5;124mAsyncHTTPProvider\u001b[39m\u001b[38;5;124m\"\u001b[39m,\n\u001b[1;32m     52\u001b[0m ]\n",
      "File \u001b[0;32m~/anaconda3/lib/python3.9/site-packages/pkg_resources/__init__.py:477\u001b[0m, in \u001b[0;36mget_distribution\u001b[0;34m(dist)\u001b[0m\n\u001b[1;32m    475\u001b[0m     dist \u001b[38;5;241m=\u001b[39m Requirement\u001b[38;5;241m.\u001b[39mparse(dist)\n\u001b[1;32m    476\u001b[0m \u001b[38;5;28;01mif\u001b[39;00m \u001b[38;5;28misinstance\u001b[39m(dist, Requirement):\n\u001b[0;32m--> 477\u001b[0m     dist \u001b[38;5;241m=\u001b[39m \u001b[43mget_provider\u001b[49m\u001b[43m(\u001b[49m\u001b[43mdist\u001b[49m\u001b[43m)\u001b[49m\n\u001b[1;32m    478\u001b[0m \u001b[38;5;28;01mif\u001b[39;00m \u001b[38;5;129;01mnot\u001b[39;00m \u001b[38;5;28misinstance\u001b[39m(dist, Distribution):\n\u001b[1;32m    479\u001b[0m     \u001b[38;5;28;01mraise\u001b[39;00m \u001b[38;5;167;01mTypeError\u001b[39;00m(\u001b[38;5;124m\"\u001b[39m\u001b[38;5;124mExpected string, Requirement, or Distribution\u001b[39m\u001b[38;5;124m\"\u001b[39m, dist)\n",
      "File \u001b[0;32m~/anaconda3/lib/python3.9/site-packages/pkg_resources/__init__.py:353\u001b[0m, in \u001b[0;36mget_provider\u001b[0;34m(moduleOrReq)\u001b[0m\n\u001b[1;32m    351\u001b[0m \u001b[38;5;124;03m\"\"\"Return an IResourceProvider for the named module or requirement\"\"\"\u001b[39;00m\n\u001b[1;32m    352\u001b[0m \u001b[38;5;28;01mif\u001b[39;00m \u001b[38;5;28misinstance\u001b[39m(moduleOrReq, Requirement):\n\u001b[0;32m--> 353\u001b[0m     \u001b[38;5;28;01mreturn\u001b[39;00m working_set\u001b[38;5;241m.\u001b[39mfind(moduleOrReq) \u001b[38;5;129;01mor\u001b[39;00m \u001b[43mrequire\u001b[49m\u001b[43m(\u001b[49m\u001b[38;5;28;43mstr\u001b[39;49m\u001b[43m(\u001b[49m\u001b[43mmoduleOrReq\u001b[49m\u001b[43m)\u001b[49m\u001b[43m)\u001b[49m[\u001b[38;5;241m0\u001b[39m]\n\u001b[1;32m    354\u001b[0m \u001b[38;5;28;01mtry\u001b[39;00m:\n\u001b[1;32m    355\u001b[0m     module \u001b[38;5;241m=\u001b[39m sys\u001b[38;5;241m.\u001b[39mmodules[moduleOrReq]\n",
      "File \u001b[0;32m~/anaconda3/lib/python3.9/site-packages/pkg_resources/__init__.py:897\u001b[0m, in \u001b[0;36mWorkingSet.require\u001b[0;34m(self, *requirements)\u001b[0m\n\u001b[1;32m    888\u001b[0m \u001b[38;5;28;01mdef\u001b[39;00m \u001b[38;5;21mrequire\u001b[39m(\u001b[38;5;28mself\u001b[39m, \u001b[38;5;241m*\u001b[39mrequirements):\n\u001b[1;32m    889\u001b[0m     \u001b[38;5;124;03m\"\"\"Ensure that distributions matching `requirements` are activated\u001b[39;00m\n\u001b[1;32m    890\u001b[0m \n\u001b[1;32m    891\u001b[0m \u001b[38;5;124;03m    `requirements` must be a string or a (possibly-nested) sequence\u001b[39;00m\n\u001b[0;32m   (...)\u001b[0m\n\u001b[1;32m    895\u001b[0m \u001b[38;5;124;03m    included, even if they were already activated in this working set.\u001b[39;00m\n\u001b[1;32m    896\u001b[0m \u001b[38;5;124;03m    \"\"\"\u001b[39;00m\n\u001b[0;32m--> 897\u001b[0m     needed \u001b[38;5;241m=\u001b[39m \u001b[38;5;28;43mself\u001b[39;49m\u001b[38;5;241;43m.\u001b[39;49m\u001b[43mresolve\u001b[49m\u001b[43m(\u001b[49m\u001b[43mparse_requirements\u001b[49m\u001b[43m(\u001b[49m\u001b[43mrequirements\u001b[49m\u001b[43m)\u001b[49m\u001b[43m)\u001b[49m\n\u001b[1;32m    899\u001b[0m     \u001b[38;5;28;01mfor\u001b[39;00m dist \u001b[38;5;129;01min\u001b[39;00m needed:\n\u001b[1;32m    900\u001b[0m         \u001b[38;5;28mself\u001b[39m\u001b[38;5;241m.\u001b[39madd(dist)\n",
      "File \u001b[0;32m~/anaconda3/lib/python3.9/site-packages/pkg_resources/__init__.py:788\u001b[0m, in \u001b[0;36mWorkingSet.resolve\u001b[0;34m(self, requirements, env, installer, replace_conflicting, extras)\u001b[0m\n\u001b[1;32m    785\u001b[0m \u001b[38;5;28;01mif\u001b[39;00m dist \u001b[38;5;129;01mnot\u001b[39;00m \u001b[38;5;129;01min\u001b[39;00m req:\n\u001b[1;32m    786\u001b[0m     \u001b[38;5;66;03m# Oops, the \"best\" so far conflicts with a dependency\u001b[39;00m\n\u001b[1;32m    787\u001b[0m     dependent_req \u001b[38;5;241m=\u001b[39m required_by[req]\n\u001b[0;32m--> 788\u001b[0m     \u001b[38;5;28;01mraise\u001b[39;00m VersionConflict(dist, req)\u001b[38;5;241m.\u001b[39mwith_context(dependent_req)\n\u001b[1;32m    790\u001b[0m \u001b[38;5;66;03m# push the new requirements onto the stack\u001b[39;00m\n\u001b[1;32m    791\u001b[0m new_requirements \u001b[38;5;241m=\u001b[39m dist\u001b[38;5;241m.\u001b[39mrequires(req\u001b[38;5;241m.\u001b[39mextras)[::\u001b[38;5;241m-\u001b[39m\u001b[38;5;241m1\u001b[39m]\n",
      "\u001b[0;31mContextualVersionConflict\u001b[0m: (websockets 10.4 (/home/vincenzo/anaconda3/lib/python3.9/site-packages), Requirement.parse('websockets<10,>=9.1'), {'web3'})"
     ]
    }
   ],
   "source": [
    "import pandas as pd\n",
    "from web3 import Web3\n",
    "from web3.middleware import geth_poa_middleware\n",
    "from multiprocessing import Pool"
   ]
  },
  {
   "cell_type": "code",
   "execution_count": 41,
   "metadata": {},
   "outputs": [],
   "source": [
    "def preprocessing(datafile):\n",
    "    df = pd.read_csv(datafile)\n",
    "    block_heigth = df[\"block_number_remove\"].max()\n",
    "    address_df = df.\\\n",
    "        sort_values([\"block_number_remove\"]).\\\n",
    "        drop_duplicates(subset=[\"from\"], keep=\"last\").\\\n",
    "        reset_index(drop=True)\\\n",
    "        [[\"from\", \"block_number_remove\"]].\\\n",
    "        rename({\"from\":\"address\", \"block_number_remove\":\"use_untill\"}, axis=\"columns\")\n",
    "    return address_df"
   ]
  },
  {
   "cell_type": "markdown",
   "metadata": {},
   "source": [
    "{\n",
    " 'accessList': [],\n",
    " 'blockHash': HexBytes('0xa0638dc5193f66d83cb334896169d00f0921aafb93548d8236ed41eb2090202e'),\n",
    " 'blockNumber': 14339974,\n",
    " 'chainId': '0x1',\n",
    " 'contractAddress': None,\n",
    " 'cumulativeGasUsed': 30107260,\n",
    " 'effectiveGasPrice': 22440056776,\n",
    " 'from': '0x8A4e93F3ef06F5d66a38e5D249Ff22A5EC88700c',\n",
    " 'gas': 21000,\n",
    " 'gasPrice': 22440056776,\n",
    " 'gasUsed': 21000,\n",
    " 'hash': HexBytes('0x159f39270fc39a1d72e342bc245b6884b21316d190a7dbffde42e2a4cfeedf7f'),\n",
    " 'input': '0x',\n",
    " 'logs': [],\n",
    " 'logsBloom': HexBytes('0x00000000000000000000000000000000000000000000000000000000000000000000000000000000000000000000000000000000000000000000000000000000000000000000000000000000000000000000000000000000000000000000000000000000000000000000000000000000000000000000000000000000000000000000000000000000000000000000000000000000000000000000000000000000000000000000000000000000000000000000000000000000000000000000000000000000000000000000000000000000000000000000000000000000000000000000000000000000000000000000000000000000000000000000000000000000'),\n",
    " 'maxFeePerGas': 28093259369,\n",
    " 'maxPriorityFeePerGas': 1500000000,\n",
    " 'nonce': 0,\n",
    " 'r': HexBytes('0xe0b4ba8bd1bfea0c9506ca882046f79a24447546c2030145686b677cf5950757'),\n",
    " 's': HexBytes('0x0b0979bb7cb867ea354c7550ba82527454ee921e799cdad9d6756aeac5150d77'),\n",
    " 'status': 1,\n",
    " 'to': '0x25D04117187DA533697e9d8A929C2A5f4aDeBf31',\n",
    " 'transactionHash': HexBytes('0x159f39270fc39a1d72e342bc245b6884b21316d190a7dbffde42e2a4cfeedf7f'),\n",
    " 'transactionIndex': 233,\n",
    " 'type': '0x2',\n",
    " 'v': 0,\n",
    " 'value': 200316774637993000\n",
    " }\n",
    "\n",
    " {\n",
    " \n",
    " 'contractAddress': None,\n",
    " 'cumulativeGasUsed': 30107260,\n",
    " 'effectiveGasPrice': 22440056776,\n",
    " 'gas': 21000,\n",
    " 'gasPrice': 22440056776,\n",
    " 'gasUsed': 21000,\n",
    " 'logs': [],\n",
    " \n",
    " 'maxFeePerGas': 28093259369,\n",
    " 'maxPriorityFeePerGas': 1500000000,\n",
    " 'nonce': 0,\n",
    " 'r': HexBytes('0xe0b4ba8bd1bfea0c9506ca882046f79a24447546c2030145686b677cf5950757'),\n",
    " 's': HexBytes('0x0b0979bb7cb867ea354c7550ba82527454ee921e799cdad9d6756aeac5150d77'),\n",
    " 'v': 0,\n",
    " }"
   ]
  },
  {
   "cell_type": "code",
   "execution_count": 38,
   "metadata": {},
   "outputs": [],
   "source": [
    "def single(address_df, edgefile, nodefile, w3):\n",
    "    max_block_heigth = address_df[\"use_untill\"].max()\n",
    "    address_set = set(address_df[\"address\"].values)\n",
    "    with open(edgefile, \"w\", encoding=\"UTF8\") as tx_file:\n",
    "        tx_file.write(\"from,to,value,gas,hash,input,blockNumber,transactionIndex\\n\")\n",
    "        for block_number in range(max_block_heigth, -1, -1):\n",
    "            block = w3.eth.get_block(block_number)\n",
    "            for transaction in block.transactions[::-1]:\n",
    "                tx = {**w3.eth.get_transaction(transaction.hex()), **w3.eth.get_transaction_receipt(transaction.hex())}\n",
    "                if tx[\"status\"] == 1 and tx[\"to\"] in address_set and tx[\"to\"] in address_df[address_df[\"use_untill\"]<=block_number][\"address\"].values:\n",
    "                    tx_file.write(\"{},{},{},{},{},{},{},{}\\n\".format(\n",
    "                        tx[\"from\"], tx[\"to\"], tx[\"value\"], tx[\"gas\"], tx[\"hash\"].hex(), tx[\"input\"][:10], tx[\"blockNumber\"], tx[\"transactionIndex\"]\n",
    "                    ))\n",
    "                    if tx[\"from\"] not in address_set:\n",
    "                        address_set.add(tx[\"from\"])\n",
    "                        row = pd.DataFrame.from_dict({\"address\": [tx[\"from\"]], \"use_untill\": [block_number]})\n",
    "                        address_df = pd.concat([address_df, row], ignore_index=True)\n",
    "    address_df.to_csv(nodefile, index=False)\n",
    "    return"
   ]
  },
  {
   "cell_type": "code",
   "execution_count": 63,
   "metadata": {},
   "outputs": [],
   "source": [
    "def multi(address_df, edgefile, nodefile, w3, depth=100, mode=\"w\"):\n",
    "    def task(start):\n",
    "        new_level_address_subset = set()\n",
    "        new_level_address_subdf = pd.DataFrame.from_dict({\"address\": [], \"use_untill\": [], \"level\": []})\n",
    "        for block_number in range(min(start+step-1, max_block_heigth), start-1, -1):\n",
    "            block = w3.eth.get_block(block_number)\n",
    "            for transaction in block.transactions[::-1]:\n",
    "                tx = {**w3.eth.get_transaction(transaction.hex()), **w3.eth.get_transaction_receipt(transaction.hex())}\n",
    "                if tx[\"status\"] == 1 and tx[\"to\"] in new_level_address_subset and tx[\"to\"] in last_level_address_df[last_level_address_df[\"use_untill\"]<=block_number][\"address\"].values:\n",
    "                    tx_file.write(\"{},{},{},{},{},{},{},{}\\n\".format(\n",
    "                        tx[\"from\"], tx[\"to\"], tx[\"value\"], tx[\"gas\"], tx[\"hash\"].hex(), tx[\"input\"][:10], tx[\"blockNumber\"], tx[\"transactionIndex\"]\n",
    "                    ))\n",
    "                    if tx[\"from\"] not in new_level_address_subset:\n",
    "                        new_level_address_subset.add(tx[\"from\"])\n",
    "                        row = pd.DataFrame.from_dict({\"address\": [tx[\"from\"]], \"use_untill\": [block_number], \"level\": [level+1]})\n",
    "                        address_df = pd.concat([address_df, row], ignore_index=True)\n",
    "        return\n",
    "    if mode == \"w\":\n",
    "        address_df[\"level\"] = 0\n",
    "        address_df.to_csv(nodefile, index=False)\n",
    "        with open(edgefile, \"w\", encoding=\"UTF8\") as tx_file:\n",
    "            tx_file.write(\"from,to,value,gas,hash,blockNumber,transactionIndex,level\\n\")\n",
    "    \n",
    "        max_block_heigth = address_df[\"use_untill\"].max()\n",
    "        address_set = set(address_df[\"address\"].values)\n",
    "        step = 1000\n",
    "        level = 0\n",
    "        while level < depth:\n",
    "            last_level_address_df = address_df\n",
    "            new_level_address_df = pd.DataFrame.from_dict({\"address\": [], \"use_untill\": [], \"level\": []})\n",
    "            for new_level_address_subdf in Pool().map(task, range(0, max_block_heigth+1, step)):\n",
    "                new_level_address_df = pd.concat([new_level_address_subdf])\n",
    "\n",
    "            new_level_address_df.to_csv(nodefile, mode=\"a\", header=False, index=False)\n",
    "            level += 1\n",
    "    return new_level_address_df"
   ]
  },
  {
   "cell_type": "code",
   "execution_count": 23,
   "metadata": {},
   "outputs": [],
   "source": [
    "eth_url = 'https://mainnet.infura.io/v3/e0a4e987f3ff4f4fa9aa21bb08f09ef5'\n",
    "bsc_url = \"https://bsc-dataseed.binance.org/\"\n",
    "\n",
    "eth_datafile = 'one_day_exit_scam_eth.csv'\n",
    "bsc_datafile = 'one_day_exit_scam_bsc.csv'\n",
    "\n",
    "eth_edgefile = 'tx_eth.csv'\n",
    "bsc_edgefile = 'tx_bsc.csv'\n",
    "\n",
    "eth_nodefile = 'address_eth.csv'\n",
    "bsc_nodefile = 'address_bsc.csv'\n",
    "\n",
    "eth_w3 = Web3(Web3.HTTPProvider(eth_url))\n",
    "bsc_w3 = Web3(Web3.HTTPProvider(bsc_url))\n",
    "bsc_w3.middleware_onion.inject(geth_poa_middleware, layer=0)\n",
    "\n",
    "eth_address_df = preprocessing(eth_datafile)\n",
    "bsc_address_df = preprocessing(bsc_datafile)"
   ]
  },
  {
   "cell_type": "code",
   "execution_count": 39,
   "metadata": {},
   "outputs": [
    {
     "name": "stdout",
     "output_type": "stream",
     "text": [
      "{'accessList': [],\n",
      " 'blockHash': HexBytes('0xa0638dc5193f66d83cb334896169d00f0921aafb93548d8236ed41eb2090202e'),\n",
      " 'blockNumber': 14339974,\n",
      " 'chainId': '0x1',\n",
      " 'contractAddress': None,\n",
      " 'cumulativeGasUsed': 30107260,\n",
      " 'effectiveGasPrice': 22440056776,\n",
      " 'from': '0x8A4e93F3ef06F5d66a38e5D249Ff22A5EC88700c',\n",
      " 'gas': 21000,\n",
      " 'gasPrice': 22440056776,\n",
      " 'gasUsed': 21000,\n",
      " 'hash': HexBytes('0x159f39270fc39a1d72e342bc245b6884b21316d190a7dbffde42e2a4cfeedf7f'),\n",
      " 'input': '0x',\n",
      " 'logs': [],\n",
      " 'logsBloom': HexBytes('0x00000000000000000000000000000000000000000000000000000000000000000000000000000000000000000000000000000000000000000000000000000000000000000000000000000000000000000000000000000000000000000000000000000000000000000000000000000000000000000000000000000000000000000000000000000000000000000000000000000000000000000000000000000000000000000000000000000000000000000000000000000000000000000000000000000000000000000000000000000000000000000000000000000000000000000000000000000000000000000000000000000000000000000000000000000000'),\n",
      " 'maxFeePerGas': 28093259369,\n",
      " 'maxPriorityFeePerGas': 1500000000,\n",
      " 'nonce': 0,\n",
      " 'r': HexBytes('0xe0b4ba8bd1bfea0c9506ca882046f79a24447546c2030145686b677cf5950757'),\n",
      " 's': HexBytes('0x0b0979bb7cb867ea354c7550ba82527454ee921e799cdad9d6756aeac5150d77'),\n",
      " 'status': 1,\n",
      " 'to': '0x25D04117187DA533697e9d8A929C2A5f4aDeBf31',\n",
      " 'transactionHash': HexBytes('0x159f39270fc39a1d72e342bc245b6884b21316d190a7dbffde42e2a4cfeedf7f'),\n",
      " 'transactionIndex': 233,\n",
      " 'type': '0x2',\n",
      " 'v': 0,\n",
      " 'value': 200316774637993000}\n"
     ]
    }
   ],
   "source": [
    "single(eth_address_df, eth_edgefile, eth_nodefile, eth_w3)"
   ]
  },
  {
   "cell_type": "code",
   "execution_count": null,
   "metadata": {},
   "outputs": [],
   "source": [
    "single(bsc_address_df, bsc_edgefile, bsc_nodefile, bsc_w3)"
   ]
  },
  {
   "cell_type": "code",
   "execution_count": null,
   "metadata": {},
   "outputs": [],
   "source": [
    "multi(eth_address_df, eth_edgefile, eth_nodefile, eth_w3)"
   ]
  },
  {
   "cell_type": "code",
   "execution_count": null,
   "metadata": {},
   "outputs": [],
   "source": [
    "multi(bsc_address_df, eth_edgefile, eth_nodefile, eth_w3)"
   ]
  },
  {
   "cell_type": "code",
   "execution_count": 61,
   "metadata": {},
   "outputs": [
    {
     "name": "stdout",
     "output_type": "stream",
     "text": [
      "0248610\n",
      "\n",
      "\n",
      "\n",
      "\n",
      "\n"
     ]
    },
    {
     "data": {
      "text/plain": [
       "[None, None, None, None, None, None]"
      ]
     },
     "execution_count": 61,
     "metadata": {},
     "output_type": "execute_result"
    }
   ],
   "source": [
    "def s():\n",
    "    print(1)\n",
    "\n"
   ]
  }
 ],
 "metadata": {
  "kernelspec": {
   "display_name": "Python 3 (ipykernel)",
   "language": "python",
   "name": "python3"
  },
  "language_info": {
   "codemirror_mode": {
    "name": "ipython",
    "version": 3
   },
   "file_extension": ".py",
   "mimetype": "text/x-python",
   "name": "python",
   "nbconvert_exporter": "python",
   "pygments_lexer": "ipython3",
   "version": "3.9.12"
  },
  "vscode": {
   "interpreter": {
    "hash": "731c43eb56f848c5bca9de05efde814bd49b40cfac306b2f8be57987981a1007"
   }
  }
 },
 "nbformat": 4,
 "nbformat_minor": 2
}
