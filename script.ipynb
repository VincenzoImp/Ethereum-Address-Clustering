{
 "cells": [
  {
   "cell_type": "code",
   "execution_count": 1,
   "metadata": {},
   "outputs": [],
   "source": [
    "!pip install web3 -q\n",
    "!pip install pandas -q"
   ]
  },
  {
   "cell_type": "code",
   "execution_count": 33,
   "metadata": {},
   "outputs": [],
   "source": [
    "import pandas as pd\n",
    "from web3 import Web3\n",
    "from web3.middleware import geth_poa_middleware\n",
    "from multiprocessing import Pool, Manager"
   ]
  },
  {
   "cell_type": "code",
   "execution_count": 34,
   "metadata": {},
   "outputs": [],
   "source": [
    "def preprocessing(datafile):\n",
    "    df = pd.read_csv(datafile)\n",
    "    block_heigth = df[\"block_number_remove\"].max()\n",
    "    address_df = df.\\\n",
    "        sort_values([\"block_number_remove\"]).\\\n",
    "        drop_duplicates(subset=[\"from\"], keep=\"last\").\\\n",
    "        reset_index(drop=True)\\\n",
    "        [[\"from\", \"block_number_remove\"]].\\\n",
    "        rename({\"from\":\"address\", \"block_number_remove\":\"use_untill\"}, axis=\"columns\")\n",
    "    return address_df"
   ]
  },
  {
   "cell_type": "markdown",
   "metadata": {},
   "source": [
    "{\n",
    " 'accessList': [],\n",
    " 'blockHash': HexBytes('0xa0638dc5193f66d83cb334896169d00f0921aafb93548d8236ed41eb2090202e'),\n",
    " 'blockNumber': 14339974,\n",
    " 'chainId': '0x1',\n",
    " 'contractAddress': None,\n",
    " 'cumulativeGasUsed': 30107260,\n",
    " 'effectiveGasPrice': 22440056776,\n",
    " 'from': '0x8A4e93F3ef06F5d66a38e5D249Ff22A5EC88700c',\n",
    " 'gas': 21000,\n",
    " 'gasPrice': 22440056776,\n",
    " 'gasUsed': 21000,\n",
    " 'hash': HexBytes('0x159f39270fc39a1d72e342bc245b6884b21316d190a7dbffde42e2a4cfeedf7f'),\n",
    " 'input': '0x',\n",
    " 'logs': [],\n",
    " 'logsBloom': HexBytes('0x00000000000000000000000000000000000000000000000000000000000000000000000000000000000000000000000000000000000000000000000000000000000000000000000000000000000000000000000000000000000000000000000000000000000000000000000000000000000000000000000000000000000000000000000000000000000000000000000000000000000000000000000000000000000000000000000000000000000000000000000000000000000000000000000000000000000000000000000000000000000000000000000000000000000000000000000000000000000000000000000000000000000000000000000000000000'),\n",
    " 'maxFeePerGas': 28093259369,\n",
    " 'maxPriorityFeePerGas': 1500000000,\n",
    " 'nonce': 0,\n",
    " 'r': HexBytes('0xe0b4ba8bd1bfea0c9506ca882046f79a24447546c2030145686b677cf5950757'),\n",
    " 's': HexBytes('0x0b0979bb7cb867ea354c7550ba82527454ee921e799cdad9d6756aeac5150d77'),\n",
    " 'status': 1,\n",
    " 'to': '0x25D04117187DA533697e9d8A929C2A5f4aDeBf31',\n",
    " 'transactionHash': HexBytes('0x159f39270fc39a1d72e342bc245b6884b21316d190a7dbffde42e2a4cfeedf7f'),\n",
    " 'transactionIndex': 233,\n",
    " 'type': '0x2',\n",
    " 'v': 0,\n",
    " 'value': 200316774637993000\n",
    " }\n",
    "\n",
    " {\n",
    " \n",
    " 'contractAddress': None,\n",
    " 'cumulativeGasUsed': 30107260,\n",
    " 'effectiveGasPrice': 22440056776,\n",
    " 'gas': 21000,\n",
    " 'gasPrice': 22440056776,\n",
    " 'gasUsed': 21000,\n",
    " 'logs': [],\n",
    " \n",
    " 'maxFeePerGas': 28093259369,\n",
    " 'maxPriorityFeePerGas': 1500000000,\n",
    " 'nonce': 0,\n",
    " 'r': HexBytes('0xe0b4ba8bd1bfea0c9506ca882046f79a24447546c2030145686b677cf5950757'),\n",
    " 's': HexBytes('0x0b0979bb7cb867ea354c7550ba82527454ee921e799cdad9d6756aeac5150d77'),\n",
    " 'v': 0,\n",
    " }"
   ]
  },
  {
   "cell_type": "code",
   "execution_count": 4,
   "metadata": {},
   "outputs": [],
   "source": [
    "def single(address_df, edgefile, nodefile, w3):\n",
    "    max_block_heigth = address_df[\"use_untill\"].max()\n",
    "    address_set = set(address_df[\"address\"].values)\n",
    "    with open(edgefile, \"w\", encoding=\"UTF8\") as tx_file:\n",
    "        tx_file.write(\"from,to,value,gas,hash,input,blockNumber,transactionIndex\\n\")\n",
    "        for block_number in range(max_block_heigth, -1, -1):\n",
    "            block = w3.eth.get_block(block_number)\n",
    "            for transaction in block.transactions[::-1]:\n",
    "                tx = {**w3.eth.get_transaction(transaction.hex()), **w3.eth.get_transaction_receipt(transaction.hex())}\n",
    "                if tx[\"status\"] == 1 and tx[\"to\"] in address_set and tx[\"to\"] in address_df[address_df[\"use_untill\"]<=block_number][\"address\"].values:\n",
    "                    tx_file.write(\"{},{},{},{},{},{},{},{}\\n\".format(\n",
    "                        tx[\"from\"], tx[\"to\"], tx[\"value\"], tx[\"gas\"], tx[\"hash\"].hex(), tx[\"input\"][:10], tx[\"blockNumber\"], tx[\"transactionIndex\"]\n",
    "                    ))\n",
    "                    if tx[\"from\"] not in address_set:\n",
    "                        address_set.add(tx[\"from\"])\n",
    "                        row = pd.DataFrame.from_dict({\"address\": [tx[\"from\"]], \"use_untill\": [block_number]})\n",
    "                        address_df = pd.concat([address_df, row], ignore_index=True)\n",
    "    address_df.to_csv(nodefile, index=False)\n",
    "    return"
   ]
  },
  {
   "cell_type": "code",
   "execution_count": 43,
   "metadata": {},
   "outputs": [],
   "source": [
    "def multi(address_df, edgefile, nodefile, w3, depth=100, mode=\"w\"): #depth compreso\n",
    "    def task(start, lock):\n",
    "        new_level_address_subset = set()\n",
    "        new_level_address_subdf = pd.DataFrame.from_dict({\"address\": [], \"use_untill\": [], \"level\": []})\n",
    "        for block_number in range(min(start+step-1, max_block_heigth), start-1, -1):\n",
    "            block = w3.eth.get_block(block_number)\n",
    "            for transaction in block.transactions[::-1]:\n",
    "                tx = {**w3.eth.get_transaction(transaction.hex()), **w3.eth.get_transaction_receipt(transaction.hex())}\n",
    "                if tx[\"status\"] == 1 and tx[\"to\"] in curr_level_address_set and tx[\"to\"] in curr_level_address_df[curr_level_address_df[\"use_untill\"]<=block_number][\"address\"].values:\n",
    "                    with lock:\n",
    "                        tx_file.write(\"{},{},{},{},{},{},{},{}\\n\".format(\n",
    "                            tx[\"from\"], tx[\"to\"], tx[\"value\"], tx[\"gas\"], tx[\"hash\"].hex(), tx[\"input\"][:10], tx[\"blockNumber\"], tx[\"transactionIndex\"], new_level\n",
    "                        ))\n",
    "                    if tx[\"from\"] not in new_level_address_subset:\n",
    "                        new_level_address_subset.add(tx[\"from\"])\n",
    "                        row = pd.DataFrame.from_dict({\"address\": [tx[\"from\"]], \"use_untill\": [block_number], \"level\": [new_level]})\n",
    "                        new_level_address_subdf = pd.concat([new_level_address_subdf, row], ignore_index=True)\n",
    "        return new_level_address_subdf\n",
    "    if mode == \"w\":\n",
    "        if \"level\" not in address_df.columns:\n",
    "            address_df[\"level\"] = 0\n",
    "        address_df.to_csv(nodefile, index=False)\n",
    "        with open(edgefile, \"w\", encoding=\"UTF8\") as tx_file:\n",
    "            tx_file.write(\"from,to,value,gas,hash,input,blockNumber,transactionIndex,level\\n\")\n",
    "        max_block_heigth = address_df[\"use_untill\"].max()\n",
    "        step = 1000\n",
    "        curr_level = 0\n",
    "        curr_level_address_set = set(address_df[\"address\"].values)\n",
    "        curr_level_address_df = address_df\n",
    "        while curr_level < depth:\n",
    "            new_level = curr_level + 1\n",
    "            #generate new level of edges and nodes\n",
    "            with Manager() as manager:\n",
    "                lock = manager.Lock()\n",
    "                with Pool() as pool:\n",
    "                    items = [(i, lock) for i in range(0, max_block_heigth+1, step)]\n",
    "                    new_level_address_subdf_list = pool.starmap_async(task, items)\n",
    "                    new_level_address_subdf_list.wait()\n",
    "            new_level_address_df = pd.concat(new_level_address_subdf_list.get())\n",
    "            #elimina da new_level_address_df tutte le righe con address ripeturi e con use_untill che non è massimo tra i doppioni\n",
    "            #elimina da new_level_address_df le righe che hanno address presenti in address_df\n",
    "            address_df = pd.concat([new_level_address_df])\n",
    "            new_level_address_df.to_csv(nodefile, mode=\"a\", header=False, index=False)\n",
    "            curr_level += 1\n",
    "            curr_level_address_set = set(new_level_address_df[\"address\"].values)\n",
    "            curr_level_address_df = new_level_address_df\n",
    "    return curr_level_address_df"
   ]
  },
  {
   "cell_type": "code",
   "execution_count": 5,
   "metadata": {},
   "outputs": [],
   "source": [
    "eth_url = 'https://mainnet.infura.io/v3/e0a4e987f3ff4f4fa9aa21bb08f09ef5'\n",
    "bsc_url = \"https://bsc-dataseed.binance.org/\"\n",
    "\n",
    "eth_datafile = 'one_day_exit_scam_eth.csv'\n",
    "bsc_datafile = 'one_day_exit_scam_bsc.csv'\n",
    "\n",
    "eth_edgefile = 'tx_eth.csv'\n",
    "bsc_edgefile = 'tx_bsc.csv'\n",
    "\n",
    "eth_nodefile = 'address_eth.csv'\n",
    "bsc_nodefile = 'address_bsc.csv'\n",
    "\n",
    "eth_w3 = Web3(Web3.HTTPProvider(eth_url))\n",
    "bsc_w3 = Web3(Web3.HTTPProvider(bsc_url))\n",
    "bsc_w3.middleware_onion.inject(geth_poa_middleware, layer=0)\n",
    "\n",
    "eth_address_df = preprocessing(eth_datafile)\n",
    "bsc_address_df = preprocessing(bsc_datafile)"
   ]
  },
  {
   "cell_type": "code",
   "execution_count": 39,
   "metadata": {},
   "outputs": [
    {
     "name": "stdout",
     "output_type": "stream",
     "text": [
      "{'accessList': [],\n",
      " 'blockHash': HexBytes('0xa0638dc5193f66d83cb334896169d00f0921aafb93548d8236ed41eb2090202e'),\n",
      " 'blockNumber': 14339974,\n",
      " 'chainId': '0x1',\n",
      " 'contractAddress': None,\n",
      " 'cumulativeGasUsed': 30107260,\n",
      " 'effectiveGasPrice': 22440056776,\n",
      " 'from': '0x8A4e93F3ef06F5d66a38e5D249Ff22A5EC88700c',\n",
      " 'gas': 21000,\n",
      " 'gasPrice': 22440056776,\n",
      " 'gasUsed': 21000,\n",
      " 'hash': HexBytes('0x159f39270fc39a1d72e342bc245b6884b21316d190a7dbffde42e2a4cfeedf7f'),\n",
      " 'input': '0x',\n",
      " 'logs': [],\n",
      " 'logsBloom': HexBytes('0x00000000000000000000000000000000000000000000000000000000000000000000000000000000000000000000000000000000000000000000000000000000000000000000000000000000000000000000000000000000000000000000000000000000000000000000000000000000000000000000000000000000000000000000000000000000000000000000000000000000000000000000000000000000000000000000000000000000000000000000000000000000000000000000000000000000000000000000000000000000000000000000000000000000000000000000000000000000000000000000000000000000000000000000000000000000'),\n",
      " 'maxFeePerGas': 28093259369,\n",
      " 'maxPriorityFeePerGas': 1500000000,\n",
      " 'nonce': 0,\n",
      " 'r': HexBytes('0xe0b4ba8bd1bfea0c9506ca882046f79a24447546c2030145686b677cf5950757'),\n",
      " 's': HexBytes('0x0b0979bb7cb867ea354c7550ba82527454ee921e799cdad9d6756aeac5150d77'),\n",
      " 'status': 1,\n",
      " 'to': '0x25D04117187DA533697e9d8A929C2A5f4aDeBf31',\n",
      " 'transactionHash': HexBytes('0x159f39270fc39a1d72e342bc245b6884b21316d190a7dbffde42e2a4cfeedf7f'),\n",
      " 'transactionIndex': 233,\n",
      " 'type': '0x2',\n",
      " 'v': 0,\n",
      " 'value': 200316774637993000}\n"
     ]
    }
   ],
   "source": [
    "single(eth_address_df, eth_edgefile, eth_nodefile, eth_w3)"
   ]
  },
  {
   "cell_type": "code",
   "execution_count": null,
   "metadata": {},
   "outputs": [],
   "source": [
    "single(bsc_address_df, bsc_edgefile, bsc_nodefile, bsc_w3)"
   ]
  },
  {
   "cell_type": "code",
   "execution_count": null,
   "metadata": {},
   "outputs": [],
   "source": [
    "multi(eth_address_df, eth_edgefile, eth_nodefile, eth_w3)"
   ]
  },
  {
   "cell_type": "code",
   "execution_count": null,
   "metadata": {},
   "outputs": [],
   "source": [
    "multi(bsc_address_df, eth_edgefile, eth_nodefile, eth_w3)"
   ]
  },
  {
   "cell_type": "code",
   "execution_count": 48,
   "metadata": {},
   "outputs": [
    {
     "name": "stdout",
     "output_type": "stream",
     "text": [
      "0\n",
      "1\n",
      "2\n",
      "4\n",
      "5\n",
      "3\n",
      "6\n",
      "7\n",
      "8\n",
      "9\n"
     ]
    },
    {
     "data": {
      "text/plain": [
       "[(0, 0),\n",
       " (1, 1),\n",
       " (2, 2),\n",
       " (3, 3),\n",
       " (4, 4),\n",
       " (5, 5),\n",
       " (6, 6),\n",
       " (7, 7),\n",
       " (8, 8),\n",
       " (9, 9)]"
      ]
     },
     "execution_count": 48,
     "metadata": {},
     "output_type": "execute_result"
    }
   ],
   "source": [
    "def s(ide, lock):\n",
    "    with lock:\n",
    "        print(ide)\n",
    "    return (ide, ide)\n",
    "with Manager() as manager:\n",
    "    # create the shared lock\n",
    "    lock = manager.Lock()\n",
    "    # create and configure the process pool\n",
    "    with Pool() as pool:\n",
    "        # prepare task arguments\n",
    "        items = [(i, lock) for i in range(10)]\n",
    "        # issue tasks into the process pool\n",
    "        result = pool.starmap_async(s, items)\n",
    "        # wait for all tasks to finish\n",
    "        result.wait()\n",
    "result.get()\n"
   ]
  },
  {
   "cell_type": "code",
   "execution_count": 35,
   "metadata": {},
   "outputs": [],
   "source": [
    "q = pd.DataFrame({\"l\":[]})"
   ]
  },
  {
   "cell_type": "code",
   "execution_count": 42,
   "metadata": {},
   "outputs": [
    {
     "data": {
      "text/plain": [
       "True"
      ]
     },
     "execution_count": 42,
     "metadata": {},
     "output_type": "execute_result"
    }
   ],
   "source": [
    "\"l\" in q.columns"
   ]
  }
 ],
 "metadata": {
  "kernelspec": {
   "display_name": "Python 3.10.6 64-bit",
   "language": "python",
   "name": "python3"
  },
  "language_info": {
   "codemirror_mode": {
    "name": "ipython",
    "version": 3
   },
   "file_extension": ".py",
   "mimetype": "text/x-python",
   "name": "python",
   "nbconvert_exporter": "python",
   "pygments_lexer": "ipython3",
   "version": "3.10.6"
  },
  "vscode": {
   "interpreter": {
    "hash": "916dbcbb3f70747c44a77c7bcd40155683ae19c65e1c03b4aa3499c5328201f1"
   }
  }
 },
 "nbformat": 4,
 "nbformat_minor": 2
}
