{
 "cells": [
  {
   "cell_type": "code",
   "execution_count": 1,
   "metadata": {},
   "outputs": [
    {
     "name": "stdout",
     "output_type": "stream",
     "text": [
      "Note: you may need to restart the kernel to use updated packages.\n",
      "Note: you may need to restart the kernel to use updated packages.\n"
     ]
    }
   ],
   "source": [
    "%pip install web3 -q\n",
    "%pip install pandas -q"
   ]
  },
  {
   "cell_type": "code",
   "execution_count": 4,
   "metadata": {},
   "outputs": [],
   "source": [
    "import pandas as pd\n",
    "from web3 import Web3\n",
    "from web3.middleware import geth_poa_middleware\n",
    "\n",
    "eth_url = 'https://mainnet.infura.io/v3/e0a4e987f3ff4f4fa9aa21bb08f09ef5'\n",
    "bsc_url = \"https://bsc-dataseed.binance.org/\"\n",
    "\n",
    "eth_datafile = 'one_day_exit_scam_eth.csv'\n",
    "bsc_datafile = 'one_day_exit_scam_bsc.csv'\n",
    "\n",
    "eth_edgefile = 'tx_eth.csv'\n",
    "bsc_edgefile = 'tx_bsc.csv'\n",
    "\n",
    "eth_nodefile = 'address_eth.csv'\n",
    "bsc_nodefile = 'address_bsc.csv'\n",
    "\n",
    "eth_w3 = Web3(Web3.HTTPProvider(eth_url))\n",
    "bsc_w3 = Web3(Web3.HTTPProvider(bsc_url))\n",
    "bsc_w3.middleware_onion.inject(geth_poa_middleware, layer=0)\n",
    "    "
   ]
  },
  {
   "cell_type": "code",
   "execution_count": 9,
   "metadata": {},
   "outputs": [],
   "source": [
    "def foo(datafile, edgefile, nodefile, w3):\n",
    "    df = pd.read_csv(datafile)\n",
    "    block_heigth = df[\"block_number_remove\"].max()\n",
    "    address_df = df.\\\n",
    "        sort_values([\"block_number_remove\"]).\\\n",
    "        drop_duplicates(subset=[\"from\"], keep=\"last\").\\\n",
    "        reset_index(drop=True)\\\n",
    "        [[\"from\", \"block_number_remove\"]].\\\n",
    "        rename({\"from\":\"address\", \"block_number_remove\":\"last_rugpull\"}, axis=\"columns\")\n",
    "\n",
    "    with open(edgefile, \"w\", encoding=\"UTF8\") as tx_file:\n",
    "        tx_file.write(\"from,to,value,gas,hash,blockNumber,transactionIndex\\n\")\n",
    "        idx = address_df.shape[0]\n",
    "        for block_number in range(block_heigth, block_heigth-1, -1):\n",
    "            block = w3.eth.get_block(block_number)\n",
    "            for transaction in block.transactions[::-1]:\n",
    "                tx = w3.eth.get_transaction(transaction.hex())\n",
    "                if tx[\"to\"] in address_df[address_df[\"last_rugpull\"]<=block_number][\"address\"].values:\n",
    "                    tx_file.write(\"{},{},{},{},{},{},{}\\n\".format(\n",
    "                        tx[\"from\"], tx[\"to\"], tx[\"value\"], tx[\"gas\"], tx[\"hash\"].hex(), tx[\"blockNumber\"], tx[\"transactionIndex\"]\n",
    "                    ))\n",
    "                    if tx[\"from\"] not in address_df[\"address\"].values:\n",
    "                        row = pd.DataFrame.from_dict({\"address\": [tx[\"from\"]], \"last_rugpull\": [block_number]})\n",
    "                        address_df = pd.concat([address_df, row], ignore_index=True)\n",
    "    address_df.to_csv(nodefile, index=False)\n",
    "    return"
   ]
  },
  {
   "cell_type": "code",
   "execution_count": 10,
   "metadata": {},
   "outputs": [],
   "source": [
    "foo(eth_datafile, eth_edgefile, eth_nodefile, eth_w3)"
   ]
  },
  {
   "cell_type": "code",
   "execution_count": 5,
   "metadata": {},
   "outputs": [],
   "source": [
    "foo(bsc_datafile, bsc_edgefile, bsc_nodefile, bsc_w3)"
   ]
  }
 ],
 "metadata": {
  "kernelspec": {
   "display_name": "Python 3 (ipykernel)",
   "language": "python",
   "name": "python3"
  },
  "language_info": {
   "codemirror_mode": {
    "name": "ipython",
    "version": 3
   },
   "file_extension": ".py",
   "mimetype": "text/x-python",
   "name": "python",
   "nbconvert_exporter": "python",
   "pygments_lexer": "ipython3",
   "version": "3.10.6"
  },
  "vscode": {
   "interpreter": {
    "hash": "916dbcbb3f70747c44a77c7bcd40155683ae19c65e1c03b4aa3499c5328201f1"
   }
  }
 },
 "nbformat": 4,
 "nbformat_minor": 2
}
