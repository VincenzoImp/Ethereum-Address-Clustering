{
 "cells": [
  {
   "cell_type": "code",
   "execution_count": 1,
   "metadata": {},
   "outputs": [],
   "source": [
    "import pandas as pd\n",
    "from web3 import Web3\n",
    "from web3.middleware import geth_poa_middleware"
   ]
  },
  {
   "cell_type": "code",
   "execution_count": 2,
   "metadata": {},
   "outputs": [],
   "source": [
    "chain = 'eth'\n",
    "query_mode = 'http'\n",
    "core_number = 25\n",
    "chunk_size = 1000\n",
    "w3 = None\n",
    "data = {\n",
    "    'eth': {\n",
    "        'rpc': '/eth/eth_node/node/geth.ipc',\n",
    "        'http': 'https://mainnet.infura.io/v3/e0a4e987f3ff4f4fa9aa21bb08f09ef5',\n",
    "        'datafile': 'data/one_day_exit_scam_eth.csv',\n",
    "        'edgefile': 'data/transactions_eth.csv',\n",
    "        'nodefile': 'data/addresses_eth.csv',\n",
    "        'logfile': 'data/chunk_log_eth.csv'\n",
    "    },\n",
    "    'bsc': {\n",
    "        'rpc': '',\n",
    "        'http': 'https://bsc-dataseed.binance.org/',\n",
    "        'datafile': 'data/one_day_exit_scam_bsc.csv',\n",
    "        'edgefile': 'data/transactions_bsc.csv',\n",
    "        'nodefile': 'data/addresses_bsc.csv',\n",
    "        'logfile': 'data/chunk_log_bsc.csv'\n",
    "    }\n",
    "}"
   ]
  },
  {
   "cell_type": "code",
   "execution_count": 3,
   "metadata": {},
   "outputs": [],
   "source": [
    "def get_w3():\n",
    "    tmp = data[chain][query_mode]\n",
    "    w3_data = {\n",
    "        'eth': {\n",
    "            'rpc': Web3(Web3.IPCProvider(tmp)),\n",
    "            'http': Web3(Web3.HTTPProvider(tmp))\n",
    "        },\n",
    "        'bsc': {\n",
    "            'rpc': None,\n",
    "            'http': Web3(Web3.HTTPProvider(tmp)).middleware_onion.inject(geth_poa_middleware, layer=0)\n",
    "        } \n",
    "    }\n",
    "    return w3_data[chain][query_mode]"
   ]
  },
  {
   "cell_type": "code",
   "execution_count": 4,
   "metadata": {},
   "outputs": [],
   "source": [
    "w3 = get_w3()"
   ]
  },
  {
   "cell_type": "code",
   "execution_count": 5,
   "metadata": {},
   "outputs": [],
   "source": [
    "data_df = pd.read_csv(data[chain]['datafile'])\n",
    "chunk_df = pd.read_csv(data[chain]['logfile'])\n",
    "edge_df = pd.read_csv(data[chain]['edgefile'])\n",
    "node_df = pd.read_csv(data[chain]['nodefile'])"
   ]
  },
  {
   "cell_type": "code",
   "execution_count": 6,
   "metadata": {},
   "outputs": [],
   "source": [
    "'''\n",
    "indirizzi lvl 0\n",
    "indirizzi lvl 1\n",
    "transazioni da lvl 0 a lvl 0\n",
    "transazioni da lvl 1 a lvl 0\n",
    "transazioni self\n",
    "transazioni self con 0 value\n",
    "per address lvl 0, numero medio di transazioni ricevute e inviate\n",
    "per address lvl 1, numero medio di transazioni inviate\n",
    "'''\n",
    "pass"
   ]
  },
  {
   "cell_type": "code",
   "execution_count": 7,
   "metadata": {},
   "outputs": [
    {
     "data": {
      "text/plain": [
       "True"
      ]
     },
     "execution_count": 7,
     "metadata": {},
     "output_type": "execute_result"
    }
   ],
   "source": [
    "'controllare se il logfile contiene tutti i chunk'\n",
    "import math\n",
    "chunk_df.shape[0] == math.ceil(data_df[\"block_number_remove\"].max() / chunk_size)"
   ]
  },
  {
   "cell_type": "code",
   "execution_count": 8,
   "metadata": {},
   "outputs": [],
   "source": [
    "'generazione del grafo'\n",
    "import networkx as nx\n",
    "graph = nx.MultiDiGraph()\n",
    "for index, node in node_df.iterrows():\n",
    "    #attr = {k:v for k,v in node.items()}\n",
    "    graph.add_node(node['address'])\n",
    "for index, edge in edge_df.iterrows():\n",
    "    attr = {k:v for k,v in edge.items()}\n",
    "    graph.add_edge(edge['from'], edge['to'])"
   ]
  },
  {
   "cell_type": "code",
   "execution_count": 9,
   "metadata": {},
   "outputs": [
    {
     "name": "stdout",
     "output_type": "stream",
     "text": [
      "True\n",
      "True\n"
     ]
    }
   ],
   "source": [
    "'controllare la completezza di address e transazioni'\n",
    "print(len(graph.nodes) == node_df.shape[0])\n",
    "print(len(graph.edges) == edge_df.shape[0])"
   ]
  },
  {
   "cell_type": "code",
   "execution_count": 10,
   "metadata": {},
   "outputs": [
    {
     "name": "stdout",
     "output_type": "stream",
     "text": [
      "number of connected components: 4096 components\n",
      "number of strongly connected components: 32009 components\n",
      "largest connected component: 14799 nodes\n",
      "largest strongly connected component: 42 nodes\n"
     ]
    }
   ],
   "source": [
    "'componenti connesse e componenti fortemente connesse'\n",
    "ncc = nx.number_connected_components(graph.to_undirected())\n",
    "cc = nx.connected_components(graph.to_undirected())\n",
    "nscc = nx.number_strongly_connected_components(graph)\n",
    "scc = nx.strongly_connected_components(graph)\n",
    "print('number of connected components: {} components'.format(ncc))\n",
    "print('number of strongly connected components: {} components'.format(nscc))\n",
    "maxcc = len(max(cc, key=lambda x: len(x)))\n",
    "maxscc = len(max(scc, key=lambda x: len(x)))\n",
    "print('largest connected component: {} nodes'.format(maxcc))\n",
    "print('largest strongly connected component: {} nodes'.format(maxscc))"
   ]
  },
  {
   "cell_type": "code",
   "execution_count": 11,
   "metadata": {},
   "outputs": [],
   "source": [
    "data = {'degree_distribution': {'in_degree': {'level': {0: {'0': 386,\n",
    "                                                     '1': 10502,\n",
    "                                                     '>1': 5696},\n",
    "                                                 1: {'0': 16006,\n",
    "                                                     '1': 0,\n",
    "                                                     '>1': 0}}},\n",
    "                         'out_degree': {'level': {0: {'0': 8377,\n",
    "                                                      '1': 5875,\n",
    "                                                      '>1': 2332},\n",
    "                                                  1: {'0': 0,\n",
    "                                                      '1': 12618,\n",
    "                                                      '>1': 3388}}}}}"
   ]
  },
  {
   "cell_type": "code",
   "execution_count": 12,
   "metadata": {},
   "outputs": [],
   "source": [
    "nx.write_graphml(graph, 'graph.graphml', prettyprint=4)"
   ]
  }
 ],
 "metadata": {
  "kernelspec": {
   "display_name": "Python 3.9.15 ('stable')",
   "language": "python",
   "name": "python3"
  },
  "language_info": {
   "codemirror_mode": {
    "name": "ipython",
    "version": 3
   },
   "file_extension": ".py",
   "mimetype": "text/x-python",
   "name": "python",
   "nbconvert_exporter": "python",
   "pygments_lexer": "ipython3",
   "version": "3.9.13"
  },
  "orig_nbformat": 4,
  "vscode": {
   "interpreter": {
    "hash": "731c43eb56f848c5bca9de05efde814bd49b40cfac306b2f8be57987981a1007"
   }
  }
 },
 "nbformat": 4,
 "nbformat_minor": 2
}
