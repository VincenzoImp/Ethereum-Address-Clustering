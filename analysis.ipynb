{
 "cells": [
  {
   "cell_type": "code",
   "execution_count": 157,
   "metadata": {},
   "outputs": [],
   "source": [
    "import pandas as pd\n",
    "from web3 import Web3\n",
    "from web3.middleware import geth_poa_middleware"
   ]
  },
  {
   "cell_type": "code",
   "execution_count": 158,
   "metadata": {},
   "outputs": [],
   "source": [
    "chain = 'eth'\n",
    "query_mode = 'http'\n",
    "core_number = 25\n",
    "chunk_size = 1000\n",
    "w3 = None\n",
    "data = {\n",
    "    'eth': {\n",
    "        'rpc': '/eth/eth_node/node/geth.ipc',\n",
    "        'http': 'https://mainnet.infura.io/v3/e0a4e987f3ff4f4fa9aa21bb08f09ef5',\n",
    "        'datafile': 'data/one_day_exit_scam_eth.csv',\n",
    "        'edgefile': 'data/transactions_eth.csv',\n",
    "        'nodefile': 'data/addresses_eth.csv',\n",
    "        'logfile': 'data/chunk_log_eth.csv'\n",
    "    },\n",
    "    'bsc': {\n",
    "        'rpc': '',\n",
    "        'http': 'https://bsc-dataseed.binance.org/',\n",
    "        'datafile': 'data/one_day_exit_scam_bsc.csv',\n",
    "        'edgefile': 'data/transactions_bsc.csv',\n",
    "        'nodefile': 'data/addresses_bsc.csv',\n",
    "        'logfile': 'data/chunk_log_bsc.csv'\n",
    "    }\n",
    "}"
   ]
  },
  {
   "cell_type": "code",
   "execution_count": 159,
   "metadata": {},
   "outputs": [],
   "source": [
    "def get_w3():\n",
    "    tmp = data[chain][query_mode]\n",
    "    w3_data = {\n",
    "        'eth': {\n",
    "            'rpc': Web3(Web3.IPCProvider(tmp)),\n",
    "            'http': Web3(Web3.HTTPProvider(tmp))\n",
    "        },\n",
    "        'bsc': {\n",
    "            'rpc': None,\n",
    "            'http': Web3(Web3.HTTPProvider(tmp)).middleware_onion.inject(geth_poa_middleware, layer=0)\n",
    "        } \n",
    "    }\n",
    "    return w3_data[chain][query_mode]"
   ]
  },
  {
   "cell_type": "code",
   "execution_count": 160,
   "metadata": {},
   "outputs": [],
   "source": [
    "w3 = get_w3()"
   ]
  },
  {
   "cell_type": "code",
   "execution_count": 161,
   "metadata": {},
   "outputs": [],
   "source": [
    "data_df = pd.read_csv(data[chain]['datafile'])\n",
    "chunk_df = pd.read_csv(data[chain]['logfile'])\n",
    "edge_df = pd.read_csv(data[chain]['edgefile'])\n",
    "node_df = pd.read_csv(data[chain]['nodefile'])"
   ]
  },
  {
   "cell_type": "code",
   "execution_count": 162,
   "metadata": {},
   "outputs": [],
   "source": [
    "'''\n",
    "indirizzi lvl 0\n",
    "indirizzi lvl 1\n",
    "transazioni da lvl 0 a lvl 0\n",
    "transazioni da lvl 1 a lvl 0\n",
    "transazioni self\n",
    "transazioni self con 0 value\n",
    "per address lvl 0, numero medio di transazioni ricevute e inviate\n",
    "per address lvl 1, numero medio di transazioni inviate\n",
    "'''\n",
    "pass"
   ]
  },
  {
   "cell_type": "code",
   "execution_count": 163,
   "metadata": {},
   "outputs": [
    {
     "data": {
      "text/plain": [
       "True"
      ]
     },
     "execution_count": 163,
     "metadata": {},
     "output_type": "execute_result"
    }
   ],
   "source": [
    "'controllare se il logfile contiene tutti i chunk'\n",
    "import math\n",
    "chunk_df.shape[0] == math.ceil(data_df[\"block_number_remove\"].max() / chunk_size)"
   ]
  },
  {
   "cell_type": "code",
   "execution_count": 164,
   "metadata": {},
   "outputs": [],
   "source": [
    "'generazione del grafo'\n",
    "import networkx as nx\n",
    "graph = nx.MultiDiGraph()\n",
    "for index, node in node_df.iterrows():\n",
    "    attr = {k:v for k,v in node.items()}\n",
    "    graph.add_node(node_for_adding=node['address'], attr=attr)\n",
    "for index, edge in edge_df.iterrows():\n",
    "    attr = {k:v for k,v in edge.items()}\n",
    "    graph.add_edge(u_for_edge=edge['from'], v_for_edge=edge['to'], attr=attr)"
   ]
  },
  {
   "cell_type": "code",
   "execution_count": 165,
   "metadata": {},
   "outputs": [
    {
     "name": "stdout",
     "output_type": "stream",
     "text": [
      "True\n",
      "True\n"
     ]
    }
   ],
   "source": [
    "'controllare la completezza di address e transazioni'\n",
    "print(len(graph.nodes) == node_df.shape[0])\n",
    "print(len(graph.edges) == edge_df.shape[0])"
   ]
  },
  {
   "cell_type": "code",
   "execution_count": 166,
   "metadata": {},
   "outputs": [
    {
     "name": "stdout",
     "output_type": "stream",
     "text": [
      "number of connected components: 4096 components\n",
      "number of strongly connected components: 32009 components\n",
      "largest connected component: 14799 nodes\n",
      "largest strongly connected component: 42 nodes\n"
     ]
    }
   ],
   "source": [
    "'componenti connesse e componenti fortemente connesse'\n",
    "ncc = nx.number_connected_components(graph.to_undirected())\n",
    "cc = nx.connected_components(graph.to_undirected())\n",
    "nscc = nx.number_strongly_connected_components(graph)\n",
    "scc = nx.strongly_connected_components(graph)\n",
    "print('number of connected components: {} components'.format(ncc))\n",
    "print('number of strongly connected components: {} components'.format(nscc))\n",
    "maxcc = len(max(cc, key=lambda x: len(x)))\n",
    "maxscc = len(max(scc, key=lambda x: len(x)))\n",
    "print('largest connected component: {} nodes'.format(maxcc))\n",
    "print('largest strongly connected component: {} nodes'.format(maxscc))"
   ]
  },
  {
   "cell_type": "code",
   "execution_count": 167,
   "metadata": {},
   "outputs": [],
   "source": [
    "'insieme di nodi lvl 0 con 0 indegree'\n",
    "data = {\n",
    "    'degree_distribution' : {\n",
    "        'in_degree' : {\n",
    "            'level' : {\n",
    "                0 : {\n",
    "                    '0' : 0,\n",
    "                    '1' : 0,\n",
    "                    '>1' : 0\n",
    "                },\n",
    "                1 : {\n",
    "                    '0' : 0,\n",
    "                    '1' : 0,\n",
    "                    '>1' : 0\n",
    "                }\n",
    "            }\n",
    "        },\n",
    "        'out_degree' : {\n",
    "            'level' : {\n",
    "                0 : {\n",
    "                    '0' : 0,\n",
    "                    '1' : 0,\n",
    "                    '>1' : 0\n",
    "                },\n",
    "                1 : {\n",
    "                    '0' : 0,\n",
    "                    '1' : 0,\n",
    "                    '>1' : 0\n",
    "                }\n",
    "            }\n",
    "        }\n",
    "    }\n",
    "}\n",
    "for address, attr in graph.nodes(data=True):\n",
    "    level = attr['attr']['level']\n",
    "    in_degree = graph.in_degree(address)\n",
    "    if in_degree == 0:\n",
    "        data['degree_distribution']['in_degree']['level'][level]['0'] += 1\n",
    "    elif in_degree == 1:\n",
    "        data['degree_distribution']['in_degree']['level'][level]['1'] += 1\n",
    "    else:\n",
    "        data['degree_distribution']['in_degree']['level'][level]['>1'] += 1\n",
    "    out_degree = graph.out_degree(address)\n",
    "    if out_degree == 0:\n",
    "        data['degree_distribution']['out_degree']['level'][level]['0'] += 1\n",
    "    elif out_degree == 1:\n",
    "        data['degree_distribution']['out_degree']['level'][level]['1'] += 1\n",
    "    else:\n",
    "        data['degree_distribution']['out_degree']['level'][level]['>1'] += 1\n",
    "    \n",
    "for src, dst, attr in graph.edges(data=True):\n",
    "    #print(attr)\n",
    "    #print(graph[src][dst])\n",
    "    break"
   ]
  },
  {
   "cell_type": "code",
   "execution_count": 168,
   "metadata": {},
   "outputs": [
    {
     "name": "stdout",
     "output_type": "stream",
     "text": [
      "{'degree_distribution': {'in_degree': {'level': {0: {'0': 386,\n",
      "                                                     '1': 10502,\n",
      "                                                     '>1': 5696},\n",
      "                                                 1: {'0': 16006,\n",
      "                                                     '1': 0,\n",
      "                                                     '>1': 0}}},\n",
      "                         'out_degree': {'level': {0: {'0': 8377,\n",
      "                                                      '1': 5875,\n",
      "                                                      '>1': 2332},\n",
      "                                                  1: {'0': 0,\n",
      "                                                      '1': 12618,\n",
      "                                                      '>1': 3388}}}}}\n",
      "65180\n"
     ]
    }
   ],
   "source": [
    "import pprint\n",
    "pprint.pprint(data)\n",
    "tot = 0\n",
    "for v in data['degree_distribution'].values():\n",
    "    for vv in v.values():\n",
    "        for vvv in vv.values():\n",
    "            for vvvv in vvv.values():\n",
    "                tot += vvvv\n",
    "print(tot)"
   ]
  },
  {
   "cell_type": "code",
   "execution_count": 169,
   "metadata": {},
   "outputs": [],
   "source": [
    "nx.write_gexf(graph, 'graph.gexf', prettyprint=4)"
   ]
  },
  {
   "cell_type": "code",
   "execution_count": 170,
   "metadata": {},
   "outputs": [],
   "source": [
    "def getNumberOfRugpull(address, data_df, graph, NRugpullPerAddress):\n",
    "    if NRugpullPerAddress[address] != None: \n",
    "        return NRugpullPerAddress[address].copy()\n",
    "    df = pd.DataFrame({column : [] for column in data_df.columns})\n",
    "    if graph.nodes[address]['attr']['level'] == 0: \n",
    "        df = data_df[data_df['from']==address]\n",
    "    for adjNode, edges in graph[address].items():\n",
    "        for edge in edges.values():\n",
    "            attr = edge['attr']\n",
    "            rugpullAdjNode = getNumberOfRugpull(adjNode, data_df, graph, NRugpullPerAddress)\n",
    "            filteredRugpullAdjNode = rugpullAdjNode[rugpullAdjNode['block_number_remove']>=attr['blockNumber']]\n",
    "            df = pd.concat([df, filteredRugpullAdjNode])\n",
    "    return df.drop_duplicates(keep='last')"
   ]
  },
  {
   "cell_type": "code",
   "execution_count": 171,
   "metadata": {},
   "outputs": [],
   "source": [
    "NRugpullPerAddress = {\n",
    "    row['address'] : None \n",
    "    for _, row in node_df.iterrows()\n",
    "}"
   ]
  },
  {
   "cell_type": "code",
   "execution_count": 172,
   "metadata": {},
   "outputs": [
    {
     "ename": "RecursionError",
     "evalue": "maximum recursion depth exceeded",
     "output_type": "error",
     "traceback": [
      "\u001b[0;31m---------------------------------------------------------------------------\u001b[0m",
      "\u001b[0;31mRecursionError\u001b[0m                            Traceback (most recent call last)",
      "Cell \u001b[0;32mIn [172], line 2\u001b[0m\n\u001b[1;32m      1\u001b[0m \u001b[39mfor\u001b[39;00m _, row \u001b[39min\u001b[39;00m node_df\u001b[39m.\u001b[39miterrows():\n\u001b[0;32m----> 2\u001b[0m     NRugpullPerAddress[row[\u001b[39m'\u001b[39m\u001b[39maddress\u001b[39m\u001b[39m'\u001b[39m]] \u001b[39m=\u001b[39m getNumberOfRugpull(row[\u001b[39m'\u001b[39;49m\u001b[39maddress\u001b[39;49m\u001b[39m'\u001b[39;49m], data_df, graph, NRugpullPerAddress)\n",
      "Cell \u001b[0;32mIn [170], line 10\u001b[0m, in \u001b[0;36mgetNumberOfRugpull\u001b[0;34m(address, data_df, graph, NRugpullPerAddress)\u001b[0m\n\u001b[1;32m      8\u001b[0m \u001b[39mfor\u001b[39;00m edge \u001b[39min\u001b[39;00m edges\u001b[39m.\u001b[39mvalues():\n\u001b[1;32m      9\u001b[0m     attr \u001b[39m=\u001b[39m edge[\u001b[39m'\u001b[39m\u001b[39mattr\u001b[39m\u001b[39m'\u001b[39m]\n\u001b[0;32m---> 10\u001b[0m     rugpullAdjNode \u001b[39m=\u001b[39m getNumberOfRugpull(adjNode, data_df, graph, NRugpullPerAddress)\n\u001b[1;32m     11\u001b[0m     filteredRugpullAdjNode \u001b[39m=\u001b[39m rugpullAdjNode[rugpullAdjNode[\u001b[39m'\u001b[39m\u001b[39mblock_number_remove\u001b[39m\u001b[39m'\u001b[39m]\u001b[39m>\u001b[39m\u001b[39m=\u001b[39mattr[\u001b[39m'\u001b[39m\u001b[39mblockNumber\u001b[39m\u001b[39m'\u001b[39m]]\n\u001b[1;32m     12\u001b[0m     df \u001b[39m=\u001b[39m pd\u001b[39m.\u001b[39mconcat([df, filteredRugpullAdjNode])\n",
      "Cell \u001b[0;32mIn [170], line 10\u001b[0m, in \u001b[0;36mgetNumberOfRugpull\u001b[0;34m(address, data_df, graph, NRugpullPerAddress)\u001b[0m\n\u001b[1;32m      8\u001b[0m \u001b[39mfor\u001b[39;00m edge \u001b[39min\u001b[39;00m edges\u001b[39m.\u001b[39mvalues():\n\u001b[1;32m      9\u001b[0m     attr \u001b[39m=\u001b[39m edge[\u001b[39m'\u001b[39m\u001b[39mattr\u001b[39m\u001b[39m'\u001b[39m]\n\u001b[0;32m---> 10\u001b[0m     rugpullAdjNode \u001b[39m=\u001b[39m getNumberOfRugpull(adjNode, data_df, graph, NRugpullPerAddress)\n\u001b[1;32m     11\u001b[0m     filteredRugpullAdjNode \u001b[39m=\u001b[39m rugpullAdjNode[rugpullAdjNode[\u001b[39m'\u001b[39m\u001b[39mblock_number_remove\u001b[39m\u001b[39m'\u001b[39m]\u001b[39m>\u001b[39m\u001b[39m=\u001b[39mattr[\u001b[39m'\u001b[39m\u001b[39mblockNumber\u001b[39m\u001b[39m'\u001b[39m]]\n\u001b[1;32m     12\u001b[0m     df \u001b[39m=\u001b[39m pd\u001b[39m.\u001b[39mconcat([df, filteredRugpullAdjNode])\n",
      "    \u001b[0;31m[... skipping similar frames: getNumberOfRugpull at line 10 (2953 times)]\u001b[0m\n",
      "Cell \u001b[0;32mIn [170], line 10\u001b[0m, in \u001b[0;36mgetNumberOfRugpull\u001b[0;34m(address, data_df, graph, NRugpullPerAddress)\u001b[0m\n\u001b[1;32m      8\u001b[0m \u001b[39mfor\u001b[39;00m edge \u001b[39min\u001b[39;00m edges\u001b[39m.\u001b[39mvalues():\n\u001b[1;32m      9\u001b[0m     attr \u001b[39m=\u001b[39m edge[\u001b[39m'\u001b[39m\u001b[39mattr\u001b[39m\u001b[39m'\u001b[39m]\n\u001b[0;32m---> 10\u001b[0m     rugpullAdjNode \u001b[39m=\u001b[39m getNumberOfRugpull(adjNode, data_df, graph, NRugpullPerAddress)\n\u001b[1;32m     11\u001b[0m     filteredRugpullAdjNode \u001b[39m=\u001b[39m rugpullAdjNode[rugpullAdjNode[\u001b[39m'\u001b[39m\u001b[39mblock_number_remove\u001b[39m\u001b[39m'\u001b[39m]\u001b[39m>\u001b[39m\u001b[39m=\u001b[39mattr[\u001b[39m'\u001b[39m\u001b[39mblockNumber\u001b[39m\u001b[39m'\u001b[39m]]\n\u001b[1;32m     12\u001b[0m     df \u001b[39m=\u001b[39m pd\u001b[39m.\u001b[39mconcat([df, filteredRugpullAdjNode])\n",
      "Cell \u001b[0;32mIn [170], line 6\u001b[0m, in \u001b[0;36mgetNumberOfRugpull\u001b[0;34m(address, data_df, graph, NRugpullPerAddress)\u001b[0m\n\u001b[1;32m      4\u001b[0m df \u001b[39m=\u001b[39m pd\u001b[39m.\u001b[39mDataFrame({column : [] \u001b[39mfor\u001b[39;00m column \u001b[39min\u001b[39;00m data_df\u001b[39m.\u001b[39mcolumns})\n\u001b[1;32m      5\u001b[0m \u001b[39mif\u001b[39;00m graph\u001b[39m.\u001b[39mnodes[address][\u001b[39m'\u001b[39m\u001b[39mattr\u001b[39m\u001b[39m'\u001b[39m][\u001b[39m'\u001b[39m\u001b[39mlevel\u001b[39m\u001b[39m'\u001b[39m] \u001b[39m==\u001b[39m \u001b[39m0\u001b[39m: \n\u001b[0;32m----> 6\u001b[0m     df \u001b[39m=\u001b[39m data_df[data_df[\u001b[39m'\u001b[39;49m\u001b[39mfrom\u001b[39;49m\u001b[39m'\u001b[39;49m]\u001b[39m==\u001b[39;49maddress]\n\u001b[1;32m      7\u001b[0m \u001b[39mfor\u001b[39;00m adjNode, edges \u001b[39min\u001b[39;00m graph[address]\u001b[39m.\u001b[39mitems():\n\u001b[1;32m      8\u001b[0m     \u001b[39mfor\u001b[39;00m edge \u001b[39min\u001b[39;00m edges\u001b[39m.\u001b[39mvalues():\n",
      "File \u001b[0;32m~/anaconda3/envs/stable/lib/python3.9/site-packages/pandas/core/ops/common.py:72\u001b[0m, in \u001b[0;36m_unpack_zerodim_and_defer.<locals>.new_method\u001b[0;34m(self, other)\u001b[0m\n\u001b[1;32m     68\u001b[0m             \u001b[39mreturn\u001b[39;00m \u001b[39mNotImplemented\u001b[39m\n\u001b[1;32m     70\u001b[0m other \u001b[39m=\u001b[39m item_from_zerodim(other)\n\u001b[0;32m---> 72\u001b[0m \u001b[39mreturn\u001b[39;00m method(\u001b[39mself\u001b[39;49m, other)\n",
      "File \u001b[0;32m~/anaconda3/envs/stable/lib/python3.9/site-packages/pandas/core/arraylike.py:42\u001b[0m, in \u001b[0;36mOpsMixin.__eq__\u001b[0;34m(self, other)\u001b[0m\n\u001b[1;32m     40\u001b[0m \u001b[39m@unpack_zerodim_and_defer\u001b[39m(\u001b[39m\"\u001b[39m\u001b[39m__eq__\u001b[39m\u001b[39m\"\u001b[39m)\n\u001b[1;32m     41\u001b[0m \u001b[39mdef\u001b[39;00m \u001b[39m__eq__\u001b[39m(\u001b[39mself\u001b[39m, other):\n\u001b[0;32m---> 42\u001b[0m     \u001b[39mreturn\u001b[39;00m \u001b[39mself\u001b[39;49m\u001b[39m.\u001b[39;49m_cmp_method(other, operator\u001b[39m.\u001b[39;49meq)\n",
      "File \u001b[0;32m~/anaconda3/envs/stable/lib/python3.9/site-packages/pandas/core/series.py:6245\u001b[0m, in \u001b[0;36mSeries._cmp_method\u001b[0;34m(self, other, op)\u001b[0m\n\u001b[1;32m   6242\u001b[0m \u001b[39mwith\u001b[39;00m np\u001b[39m.\u001b[39merrstate(\u001b[39mall\u001b[39m\u001b[39m=\u001b[39m\u001b[39m\"\u001b[39m\u001b[39mignore\u001b[39m\u001b[39m\"\u001b[39m):\n\u001b[1;32m   6243\u001b[0m     res_values \u001b[39m=\u001b[39m ops\u001b[39m.\u001b[39mcomparison_op(lvalues, rvalues, op)\n\u001b[0;32m-> 6245\u001b[0m \u001b[39mreturn\u001b[39;00m \u001b[39mself\u001b[39;49m\u001b[39m.\u001b[39;49m_construct_result(res_values, name\u001b[39m=\u001b[39;49mres_name)\n",
      "File \u001b[0;32m~/anaconda3/envs/stable/lib/python3.9/site-packages/pandas/core/series.py:3223\u001b[0m, in \u001b[0;36mSeries._construct_result\u001b[0;34m(self, result, name)\u001b[0m\n\u001b[1;32m   3219\u001b[0m     \u001b[39mreturn\u001b[39;00m (res1, res2)\n\u001b[1;32m   3221\u001b[0m \u001b[39m# We do not pass dtype to ensure that the Series constructor\u001b[39;00m\n\u001b[1;32m   3222\u001b[0m \u001b[39m#  does inference in the case where `result` has object-dtype.\u001b[39;00m\n\u001b[0;32m-> 3223\u001b[0m out \u001b[39m=\u001b[39m \u001b[39mself\u001b[39;49m\u001b[39m.\u001b[39;49m_constructor(result, index\u001b[39m=\u001b[39;49m\u001b[39mself\u001b[39;49m\u001b[39m.\u001b[39;49mindex)\n\u001b[1;32m   3224\u001b[0m out \u001b[39m=\u001b[39m out\u001b[39m.\u001b[39m__finalize__(\u001b[39mself\u001b[39m)\n\u001b[1;32m   3226\u001b[0m \u001b[39m# Set the result's name after __finalize__ is called because __finalize__\u001b[39;00m\n\u001b[1;32m   3227\u001b[0m \u001b[39m#  would set it back to self.name\u001b[39;00m\n",
      "File \u001b[0;32m~/anaconda3/envs/stable/lib/python3.9/site-packages/pandas/core/series.py:474\u001b[0m, in \u001b[0;36mSeries.__init__\u001b[0;34m(self, data, index, dtype, name, copy, fastpath)\u001b[0m\n\u001b[1;32m    472\u001b[0m manager \u001b[39m=\u001b[39m get_option(\u001b[39m\"\u001b[39m\u001b[39mmode.data_manager\u001b[39m\u001b[39m\"\u001b[39m)\n\u001b[1;32m    473\u001b[0m \u001b[39mif\u001b[39;00m manager \u001b[39m==\u001b[39m \u001b[39m\"\u001b[39m\u001b[39mblock\u001b[39m\u001b[39m\"\u001b[39m:\n\u001b[0;32m--> 474\u001b[0m     data \u001b[39m=\u001b[39m SingleBlockManager\u001b[39m.\u001b[39;49mfrom_array(data, index)\n\u001b[1;32m    475\u001b[0m \u001b[39melif\u001b[39;00m manager \u001b[39m==\u001b[39m \u001b[39m\"\u001b[39m\u001b[39marray\u001b[39m\u001b[39m\"\u001b[39m:\n\u001b[1;32m    476\u001b[0m     data \u001b[39m=\u001b[39m SingleArrayManager\u001b[39m.\u001b[39mfrom_array(data, index)\n",
      "File \u001b[0;32m~/anaconda3/envs/stable/lib/python3.9/site-packages/pandas/core/internals/managers.py:1937\u001b[0m, in \u001b[0;36mSingleBlockManager.from_array\u001b[0;34m(cls, array, index)\u001b[0m\n\u001b[1;32m   1933\u001b[0m \u001b[39m\"\"\"\u001b[39;00m\n\u001b[1;32m   1934\u001b[0m \u001b[39mConstructor for if we have an array that is not yet a Block.\u001b[39;00m\n\u001b[1;32m   1935\u001b[0m \u001b[39m\"\"\"\u001b[39;00m\n\u001b[1;32m   1936\u001b[0m block \u001b[39m=\u001b[39m new_block(array, placement\u001b[39m=\u001b[39m\u001b[39mslice\u001b[39m(\u001b[39m0\u001b[39m, \u001b[39mlen\u001b[39m(index)), ndim\u001b[39m=\u001b[39m\u001b[39m1\u001b[39m)\n\u001b[0;32m-> 1937\u001b[0m \u001b[39mreturn\u001b[39;00m \u001b[39mcls\u001b[39;49m(block, index)\n",
      "File \u001b[0;32m~/anaconda3/envs/stable/lib/python3.9/site-packages/pandas/core/internals/managers.py:1912\u001b[0m, in \u001b[0;36mSingleBlockManager.__init__\u001b[0;34m(self, block, axis, refs, parent, verify_integrity, fastpath)\u001b[0m\n\u001b[1;32m   1910\u001b[0m \u001b[39mself\u001b[39m\u001b[39m.\u001b[39mblocks \u001b[39m=\u001b[39m (block,)\n\u001b[1;32m   1911\u001b[0m \u001b[39mself\u001b[39m\u001b[39m.\u001b[39mrefs \u001b[39m=\u001b[39m refs\n\u001b[0;32m-> 1912\u001b[0m \u001b[39mself\u001b[39m\u001b[39m.\u001b[39mparent \u001b[39m=\u001b[39m parent \u001b[39mif\u001b[39;00m _using_copy_on_write() \u001b[39melse\u001b[39;00m \u001b[39mNone\u001b[39;00m\n",
      "File \u001b[0;32m~/anaconda3/envs/stable/lib/python3.9/site-packages/pandas/core/internals/managers.py:2428\u001b[0m, in \u001b[0;36m_using_copy_on_write\u001b[0;34m()\u001b[0m\n\u001b[1;32m   2427\u001b[0m \u001b[39mdef\u001b[39;00m \u001b[39m_using_copy_on_write\u001b[39m():\n\u001b[0;32m-> 2428\u001b[0m     \u001b[39mreturn\u001b[39;00m get_option(\u001b[39m\"\u001b[39;49m\u001b[39mmode.copy_on_write\u001b[39;49m\u001b[39m\"\u001b[39;49m)\n",
      "File \u001b[0;32m~/anaconda3/envs/stable/lib/python3.9/site-packages/pandas/_config/config.py:263\u001b[0m, in \u001b[0;36mCallableDynamicDoc.__call__\u001b[0;34m(self, *args, **kwds)\u001b[0m\n\u001b[1;32m    262\u001b[0m \u001b[39mdef\u001b[39;00m \u001b[39m__call__\u001b[39m(\u001b[39mself\u001b[39m, \u001b[39m*\u001b[39margs, \u001b[39m*\u001b[39m\u001b[39m*\u001b[39mkwds) \u001b[39m-\u001b[39m\u001b[39m>\u001b[39m T:\n\u001b[0;32m--> 263\u001b[0m     \u001b[39mreturn\u001b[39;00m \u001b[39mself\u001b[39;49m\u001b[39m.\u001b[39;49m\u001b[39m__func__\u001b[39;49m(\u001b[39m*\u001b[39;49margs, \u001b[39m*\u001b[39;49m\u001b[39m*\u001b[39;49mkwds)\n",
      "File \u001b[0;32m~/anaconda3/envs/stable/lib/python3.9/site-packages/pandas/_config/config.py:135\u001b[0m, in \u001b[0;36m_get_option\u001b[0;34m(pat, silent)\u001b[0m\n\u001b[1;32m    134\u001b[0m \u001b[39mdef\u001b[39;00m \u001b[39m_get_option\u001b[39m(pat: \u001b[39mstr\u001b[39m, silent: \u001b[39mbool\u001b[39m \u001b[39m=\u001b[39m \u001b[39mFalse\u001b[39;00m) \u001b[39m-\u001b[39m\u001b[39m>\u001b[39m Any:\n\u001b[0;32m--> 135\u001b[0m     key \u001b[39m=\u001b[39m _get_single_key(pat, silent)\n\u001b[1;32m    137\u001b[0m     \u001b[39m# walk the nested dict\u001b[39;00m\n\u001b[1;32m    138\u001b[0m     root, k \u001b[39m=\u001b[39m _get_root(key)\n",
      "File \u001b[0;32m~/anaconda3/envs/stable/lib/python3.9/site-packages/pandas/_config/config.py:127\u001b[0m, in \u001b[0;36m_get_single_key\u001b[0;34m(pat, silent)\u001b[0m\n\u001b[1;32m    124\u001b[0m key \u001b[39m=\u001b[39m keys[\u001b[39m0\u001b[39m]\n\u001b[1;32m    126\u001b[0m \u001b[39mif\u001b[39;00m \u001b[39mnot\u001b[39;00m silent:\n\u001b[0;32m--> 127\u001b[0m     _warn_if_deprecated(key)\n\u001b[1;32m    129\u001b[0m key \u001b[39m=\u001b[39m _translate_key(key)\n\u001b[1;32m    131\u001b[0m \u001b[39mreturn\u001b[39;00m key\n",
      "File \u001b[0;32m~/anaconda3/envs/stable/lib/python3.9/site-packages/pandas/_config/config.py:658\u001b[0m, in \u001b[0;36m_warn_if_deprecated\u001b[0;34m(key)\u001b[0m\n\u001b[1;32m    650\u001b[0m \u001b[39mdef\u001b[39;00m \u001b[39m_warn_if_deprecated\u001b[39m(key: \u001b[39mstr\u001b[39m) \u001b[39m-\u001b[39m\u001b[39m>\u001b[39m \u001b[39mbool\u001b[39m:\n\u001b[1;32m    651\u001b[0m     \u001b[39m\"\"\"\u001b[39;00m\n\u001b[1;32m    652\u001b[0m \u001b[39m    Checks if `key` is a deprecated option and if so, prints a warning.\u001b[39;00m\n\u001b[1;32m    653\u001b[0m \n\u001b[0;32m   (...)\u001b[0m\n\u001b[1;32m    656\u001b[0m \u001b[39m    bool - True if `key` is deprecated, False otherwise.\u001b[39;00m\n\u001b[1;32m    657\u001b[0m \u001b[39m    \"\"\"\u001b[39;00m\n\u001b[0;32m--> 658\u001b[0m     d \u001b[39m=\u001b[39m _get_deprecated_option(key)\n\u001b[1;32m    659\u001b[0m     \u001b[39mif\u001b[39;00m d:\n\u001b[1;32m    660\u001b[0m         \u001b[39mif\u001b[39;00m d\u001b[39m.\u001b[39mmsg:\n",
      "\u001b[0;31mRecursionError\u001b[0m: maximum recursion depth exceeded"
     ]
    }
   ],
   "source": [
    "for _, row in node_df.iterrows():\n",
    "    NRugpullPerAddress[row['address']] = getNumberOfRugpull(row['address'], data_df, graph, NRugpullPerAddress)"
   ]
  }
 ],
 "metadata": {
  "kernelspec": {
   "display_name": "Python 3.9.15 ('stable')",
   "language": "python",
   "name": "python3"
  },
  "language_info": {
   "codemirror_mode": {
    "name": "ipython",
    "version": 3
   },
   "file_extension": ".py",
   "mimetype": "text/x-python",
   "name": "python",
   "nbconvert_exporter": "python",
   "pygments_lexer": "ipython3",
   "version": "3.9.15"
  },
  "orig_nbformat": 4,
  "vscode": {
   "interpreter": {
    "hash": "731c43eb56f848c5bca9de05efde814bd49b40cfac306b2f8be57987981a1007"
   }
  }
 },
 "nbformat": 4,
 "nbformat_minor": 2
}
