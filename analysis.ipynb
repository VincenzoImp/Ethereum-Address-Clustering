{
 "cells": [
  {
   "cell_type": "code",
   "execution_count": 50,
   "metadata": {},
   "outputs": [],
   "source": [
    "import pandas as pd\n",
    "import networkx as nx"
   ]
  },
  {
   "cell_type": "code",
   "execution_count": 51,
   "metadata": {},
   "outputs": [],
   "source": [
    "address_df = pd.read_csv(\"data/address_eth.csv\")\n",
    "transaction_df = pd.read_csv(\"data/tx_eth.csv\")"
   ]
  },
  {
   "cell_type": "code",
   "execution_count": 65,
   "metadata": {},
   "outputs": [
    {
     "data": {
      "text/plain": [
       "1        False\n",
       "2        False\n",
       "3        False\n",
       "4        False\n",
       "5        False\n",
       "         ...  \n",
       "33652    False\n",
       "33653    False\n",
       "33654    False\n",
       "33656    False\n",
       "33657    False\n",
       "Name: from, Length: 20216, dtype: bool"
      ]
     },
     "execution_count": 65,
     "metadata": {},
     "output_type": "execute_result"
    }
   ],
   "source": [
    "df = transaction_df['from'].isin(address_df['address'])\n",
    "df[df == False]"
   ]
  },
  {
   "cell_type": "code",
   "execution_count": 52,
   "metadata": {},
   "outputs": [],
   "source": [
    "adiacenti = {}\n",
    "for i, row in address_df.iterrows():\n",
    "    add = row['address']\n",
    "    if add not in adiacenti.keys():\n",
    "        adiacenti[add] = {\n",
    "            'level': row['level'],\n",
    "            'adj': []\n",
    "        }\n",
    "\n",
    "for i, row in transaction_df.iterrows():\n",
    "    adiacenti[row['from']] = list()\n",
    "    adiacenti[row['to']] = list()\n",
    "\n",
    "for i, row in transaction_df.iterrows():\n",
    "    adiacenti[row['from']].append(row['to'])"
   ]
  },
  {
   "cell_type": "code",
   "execution_count": 53,
   "metadata": {},
   "outputs": [
    {
     "data": {
      "text/plain": [
       "24602"
      ]
     },
     "execution_count": 53,
     "metadata": {},
     "output_type": "execute_result"
    }
   ],
   "source": []
  },
  {
   "cell_type": "code",
   "execution_count": null,
   "metadata": {},
   "outputs": [],
   "source": []
  },
  {
   "cell_type": "code",
   "execution_count": 7,
   "metadata": {},
   "outputs": [
    {
     "data": {
      "text/plain": [
       "0         True\n",
       "1         True\n",
       "2         True\n",
       "3         True\n",
       "4         True\n",
       "         ...  \n",
       "16652    False\n",
       "16653    False\n",
       "16654    False\n",
       "16655    False\n",
       "16656    False\n",
       "Name: address, Length: 16657, dtype: bool"
      ]
     },
     "execution_count": 7,
     "metadata": {},
     "output_type": "execute_result"
    }
   ],
   "source": [
    "a = address_df[~address_df[\"address\"].isin(transaction_df[\"from\"])]\n",
    "address_df[\"address\"].isin(transaction_df[\"to\"])"
   ]
  },
  {
   "cell_type": "code",
   "execution_count": 8,
   "metadata": {},
   "outputs": [],
   "source": [
    "g = nx.DiGraph()\n",
    "\n",
    "for i, row in address_df.iterrows():\n",
    "    g.add_node(row['address'])\n",
    "\n",
    "for i, row in transaction_df.iterrows():\n",
    "    g.add_edge(row['from'], row['to'])\n",
    "\n",
    "\n",
    "nx.write_graphml(g, 'data/graph.graphml')"
   ]
  }
 ],
 "metadata": {
  "kernelspec": {
   "display_name": "Python 3.9.13 ('blockchain')",
   "language": "python",
   "name": "python3"
  },
  "language_info": {
   "codemirror_mode": {
    "name": "ipython",
    "version": 3
   },
   "file_extension": ".py",
   "mimetype": "text/x-python",
   "name": "python",
   "nbconvert_exporter": "python",
   "pygments_lexer": "ipython3",
   "version": "3.9.13"
  },
  "orig_nbformat": 4,
  "vscode": {
   "interpreter": {
    "hash": "93f22f4d4f0cf103124be230d217caee56206290cfe5f504a87707d671b2908a"
   }
  }
 },
 "nbformat": 4,
 "nbformat_minor": 2
}
