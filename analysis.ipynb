{
 "cells": [
  {
   "cell_type": "code",
   "execution_count": 186,
   "metadata": {},
   "outputs": [],
   "source": [
    "import pandas as pd\n",
    "from web3 import Web3\n",
    "from web3.middleware import geth_poa_middleware"
   ]
  },
  {
   "cell_type": "code",
   "execution_count": 187,
   "metadata": {},
   "outputs": [],
   "source": [
    "chain = 'eth'\n",
    "query_mode = 'http'\n",
    "core_number = 25\n",
    "chunk_size = 1000\n",
    "w3 = None\n",
    "data = {\n",
    "    'eth': {\n",
    "        'rpc': '/eth/eth_node/node/geth.ipc',\n",
    "        'http': 'https://mainnet.infura.io/v3/e0a4e987f3ff4f4fa9aa21bb08f09ef5',\n",
    "        'datafile': 'data/one_day_exit_scam_eth.csv',\n",
    "        'edgefile': 'data/transactions_eth.csv',\n",
    "        'nodefile': 'data/addresses_eth.csv',\n",
    "        'logfile': 'data/chunk_log_eth.csv'\n",
    "    },\n",
    "    'bsc': {\n",
    "        'rpc': '',\n",
    "        'http': 'https://bsc-dataseed.binance.org/',\n",
    "        'datafile': 'data/one_day_exit_scam_bsc.csv',\n",
    "        'edgefile': 'data/transactions_bsc.csv',\n",
    "        'nodefile': 'data/addresses_bsc.csv',\n",
    "        'logfile': 'data/chunk_log_bsc.csv'\n",
    "    }\n",
    "}"
   ]
  },
  {
   "cell_type": "code",
   "execution_count": 188,
   "metadata": {},
   "outputs": [],
   "source": [
    "def get_w3():\n",
    "    tmp = data[chain][query_mode]\n",
    "    w3_data = {\n",
    "        'eth': {\n",
    "            'rpc': Web3(Web3.IPCProvider(tmp)),\n",
    "            'http': Web3(Web3.HTTPProvider(tmp))\n",
    "        },\n",
    "        'bsc': {\n",
    "            'rpc': None,\n",
    "            'http': Web3(Web3.HTTPProvider(tmp)).middleware_onion.inject(geth_poa_middleware, layer=0)\n",
    "        } \n",
    "    }\n",
    "    return w3_data[chain][query_mode]"
   ]
  },
  {
   "cell_type": "code",
   "execution_count": 189,
   "metadata": {},
   "outputs": [],
   "source": [
    "w3 = get_w3()"
   ]
  },
  {
   "cell_type": "code",
   "execution_count": 190,
   "metadata": {},
   "outputs": [],
   "source": [
    "data_df = pd.read_csv(data[chain]['datafile'])\n",
    "chunk_df = pd.read_csv(data[chain]['logfile'])\n",
    "edge_df = pd.read_csv(data[chain]['edgefile'])\n",
    "node_df = pd.read_csv(data[chain]['nodefile'])"
   ]
  },
  {
   "cell_type": "code",
   "execution_count": 191,
   "metadata": {},
   "outputs": [],
   "source": [
    "'''\n",
    "indirizzi lvl 0\n",
    "indirizzi lvl 1\n",
    "transazioni da lvl 0 a lvl 0\n",
    "transazioni da lvl 1 a lvl 0\n",
    "transazioni self\n",
    "transazioni self con 0 value\n",
    "per address lvl 0, numero medio di transazioni ricevute e inviate\n",
    "per address lvl 1, numero medio di transazioni inviate\n",
    "'''\n",
    "pass"
   ]
  },
  {
   "cell_type": "code",
   "execution_count": 192,
   "metadata": {},
   "outputs": [
    {
     "data": {
      "text/plain": [
       "True"
      ]
     },
     "execution_count": 192,
     "metadata": {},
     "output_type": "execute_result"
    }
   ],
   "source": [
    "'controllare se il logfile contiene tutti i chunk'\n",
    "import math\n",
    "chunk_df.shape[0] == math.ceil(data_df[\"block_number_remove\"].max() / chunk_size)"
   ]
  },
  {
   "cell_type": "code",
   "execution_count": 193,
   "metadata": {},
   "outputs": [],
   "source": [
    "'generazione del grafo'\n",
    "import networkx as nx\n",
    "graph = nx.MultiDiGraph()\n",
    "for index, node in node_df.iterrows():\n",
    "    attr = {k:v for k,v in node.items()}\n",
    "    graph.add_node(node['address'], attr=attr)\n",
    "for index, edge in edge_df.iterrows():\n",
    "    attr = {k:v for k,v in edge.items()}\n",
    "    graph.add_edge(edge['from'], edge['to'], attr=attr)"
   ]
  },
  {
   "cell_type": "code",
   "execution_count": 194,
   "metadata": {},
   "outputs": [
    {
     "name": "stdout",
     "output_type": "stream",
     "text": [
      "True\n",
      "True\n"
     ]
    }
   ],
   "source": [
    "'controllare la completezza di address e transazioni'\n",
    "print(len(graph.nodes) == node_df.shape[0])\n",
    "print(len(graph.edges) == edge_df.shape[0])"
   ]
  },
  {
   "cell_type": "code",
   "execution_count": 195,
   "metadata": {},
   "outputs": [
    {
     "name": "stdout",
     "output_type": "stream",
     "text": [
      "number of connected components: 4096 components\n",
      "number of strongly connected components: 32009 components\n",
      "largest connected component: 14799 nodes\n",
      "largest strongly connected component: 42 nodes\n"
     ]
    }
   ],
   "source": [
    "'componenti connesse e componenti fortemente connesse'\n",
    "ncc = nx.number_connected_components(graph.to_undirected())\n",
    "cc = nx.connected_components(graph.to_undirected())\n",
    "nscc = nx.number_strongly_connected_components(graph)\n",
    "scc = nx.strongly_connected_components(graph)\n",
    "print('number of connected components: {} components'.format(ncc))\n",
    "print('number of strongly connected components: {} components'.format(nscc))\n",
    "maxcc = len(max(cc, key=lambda x: len(x)))\n",
    "maxscc = len(max(scc, key=lambda x: len(x)))\n",
    "print('largest connected component: {} nodes'.format(maxcc))\n",
    "print('largest strongly connected component: {} nodes'.format(maxscc))"
   ]
  },
  {
   "cell_type": "code",
   "execution_count": 232,
   "metadata": {},
   "outputs": [],
   "source": [
    "'insieme di nodi lvl 0 con 0 indegree'\n",
    "data = {\n",
    "    'degree_distribution' : {\n",
    "        'in_degree' : {\n",
    "            'level' : {\n",
    "                0 : {\n",
    "                    '0' : 0,\n",
    "                    '1' : 0,\n",
    "                    '>1' : 0\n",
    "                },\n",
    "                1 : {\n",
    "                    '0' : 0,\n",
    "                    '1' : 0,\n",
    "                    '>1' : 0\n",
    "                }\n",
    "            }\n",
    "        },\n",
    "        'out_degree' : {\n",
    "            'level' : {\n",
    "                0 : {\n",
    "                    '0' : 0,\n",
    "                    '1' : 0,\n",
    "                    '>1' : 0\n",
    "                },\n",
    "                1 : {\n",
    "                    '0' : 0,\n",
    "                    '1' : 0,\n",
    "                    '>1' : 0\n",
    "                }\n",
    "            }\n",
    "        }\n",
    "    }\n",
    "}\n",
    "for address, attr in graph.nodes(data=True):\n",
    "    level = attr['attr']['level']\n",
    "    in_degree = graph.in_degree(address)\n",
    "    if in_degree == 0:\n",
    "        data['degree_distribution']['in_degree']['level'][level]['0'] += 1\n",
    "    elif in_degree == 1:\n",
    "        data['degree_distribution']['in_degree']['level'][level]['1'] += 1\n",
    "    else:\n",
    "        data['degree_distribution']['in_degree']['level'][level]['>1'] += 1\n",
    "    out_degree = graph.out_degree(address)\n",
    "    if out_degree == 0:\n",
    "        data['degree_distribution']['out_degree']['level'][level]['0'] += 1\n",
    "    elif out_degree == 1:\n",
    "        data['degree_distribution']['out_degree']['level'][level]['1'] += 1\n",
    "    else:\n",
    "        data['degree_distribution']['out_degree']['level'][level]['>1'] += 1\n",
    "    \n",
    "for src, dst, attr in graph.edges(data=True):\n",
    "    #print(attr)\n",
    "    #print(graph[src][dst])\n",
    "    break"
   ]
  },
  {
   "cell_type": "code",
   "execution_count": 236,
   "metadata": {},
   "outputs": [
    {
     "name": "stdout",
     "output_type": "stream",
     "text": [
      "{'degree_distribution': {'in_degree': {'level': {0: {'0': 386,\n",
      "                                                     '1': 10502,\n",
      "                                                     '>1': 5696},\n",
      "                                                 1: {'0': 16006,\n",
      "                                                     '1': 0,\n",
      "                                                     '>1': 0}}},\n",
      "                         'out_degree': {'level': {0: {'0': 8377,\n",
      "                                                      '1': 5875,\n",
      "                                                      '>1': 2332},\n",
      "                                                  1: {'0': 0,\n",
      "                                                      '1': 12618,\n",
      "                                                      '>1': 3388}}}}}\n",
      "65180\n"
     ]
    }
   ],
   "source": [
    "import pprint\n",
    "pprint.pprint(data)\n",
    "tot = 0\n",
    "for v in data['degree_distribution'].values():\n",
    "    for vv in v.values():\n",
    "        for vvv in vv.values():\n",
    "            for vvvv in vvv.values():\n",
    "                tot += vvvv\n",
    "print(tot)"
   ]
  }
 ],
 "metadata": {
  "kernelspec": {
   "display_name": "Python 3.9.15 ('stable')",
   "language": "python",
   "name": "python3"
  },
  "language_info": {
   "codemirror_mode": {
    "name": "ipython",
    "version": 3
   },
   "file_extension": ".py",
   "mimetype": "text/x-python",
   "name": "python",
   "nbconvert_exporter": "python",
   "pygments_lexer": "ipython3",
   "version": "3.9.15"
  },
  "orig_nbformat": 4,
  "vscode": {
   "interpreter": {
    "hash": "731c43eb56f848c5bca9de05efde814bd49b40cfac306b2f8be57987981a1007"
   }
  }
 },
 "nbformat": 4,
 "nbformat_minor": 2
}
