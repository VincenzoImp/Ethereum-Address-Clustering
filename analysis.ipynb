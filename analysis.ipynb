{
 "cells": [
  {
   "cell_type": "code",
   "execution_count": 2,
   "metadata": {},
   "outputs": [],
   "source": [
    "import pandas as pd"
   ]
  },
  {
   "cell_type": "code",
   "execution_count": 3,
   "metadata": {},
   "outputs": [],
   "source": [
    "address_df = pd.read_csv(\"data/address_eth.csv\")\n",
    "transaction_df = pd.read_csv(\"data/tx_eth.csv\")"
   ]
  },
  {
   "cell_type": "code",
   "execution_count": 9,
   "metadata": {},
   "outputs": [
    {
     "data": {
      "text/plain": [
       "0         True\n",
       "1         True\n",
       "2         True\n",
       "3         True\n",
       "4         True\n",
       "         ...  \n",
       "16652    False\n",
       "16653    False\n",
       "16654    False\n",
       "16655    False\n",
       "16656    False\n",
       "Name: address, Length: 16657, dtype: bool"
      ]
     },
     "execution_count": 9,
     "metadata": {},
     "output_type": "execute_result"
    }
   ],
   "source": [
    "a = address_df[~address_df[\"address\"].isin(transaction_df[\"from\"])]\n",
    "\n",
    "\n",
    "\n",
    "address_df[\"address\"].isin(transaction_df[\"to\"])"
   ]
  }
 ],
 "metadata": {
  "kernelspec": {
   "display_name": "Python 3.9.13 ('blockchain')",
   "language": "python",
   "name": "python3"
  },
  "language_info": {
   "codemirror_mode": {
    "name": "ipython",
    "version": 3
   },
   "file_extension": ".py",
   "mimetype": "text/x-python",
   "name": "python",
   "nbconvert_exporter": "python",
   "pygments_lexer": "ipython3",
   "version": "3.9.13"
  },
  "orig_nbformat": 4,
  "vscode": {
   "interpreter": {
    "hash": "93f22f4d4f0cf103124be230d217caee56206290cfe5f504a87707d671b2908a"
   }
  }
 },
 "nbformat": 4,
 "nbformat_minor": 2
}
