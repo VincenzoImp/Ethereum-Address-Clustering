{
 "cells": [
  {
   "cell_type": "code",
   "execution_count": 1,
   "metadata": {},
   "outputs": [],
   "source": [
    "import pandas as pd\n",
    "from web3 import Web3\n",
    "from web3.middleware import geth_poa_middleware"
   ]
  },
  {
   "cell_type": "code",
   "execution_count": 17,
   "metadata": {},
   "outputs": [],
   "source": [
    "chain = 'eth'\n",
    "query_mode = 'http'\n",
    "w3 = None\n",
    "data = {\n",
    "    'eth': {\n",
    "        'rpc': '/eth/eth_node/node/geth.ipc',\n",
    "        'http': 'https://mainnet.infura.io/v3/e0a4e987f3ff4f4fa9aa21bb08f09ef5',\n",
    "        'datafile': 'data/one_day_exit_scam_eth.csv',\n",
    "        'edgefile': 'data/bkp_tx_eth.csv',\n",
    "        'nodefile': 'data/address_eth.csv'\n",
    "    },\n",
    "    'bsc': {\n",
    "        'rpc': '',\n",
    "        'http': 'https://bsc-dataseed.binance.org/',\n",
    "        'datafile': 'one_day_exit_scam_bsc.csv',\n",
    "        'edgefile': 'data/tx_bsc.csv',\n",
    "        'nodefile': 'data/address_bsc.csv'\n",
    "    }\n",
    "}"
   ]
  },
  {
   "cell_type": "code",
   "execution_count": 18,
   "metadata": {},
   "outputs": [],
   "source": [
    "def get_w3():\n",
    "    tmp = data[chain][query_mode]\n",
    "    w3_data = {\n",
    "        'eth': {\n",
    "            'rpc': Web3(Web3.IPCProvider(tmp)),\n",
    "            'http': Web3(Web3.HTTPProvider(tmp))\n",
    "        },\n",
    "        'bsc': {\n",
    "            'rpc': None,\n",
    "            'http': Web3(Web3.HTTPProvider(tmp)).middleware_onion.inject(geth_poa_middleware, layer=0)\n",
    "        } \n",
    "    }\n",
    "    return w3_data[chain][query_mode]"
   ]
  },
  {
   "cell_type": "code",
   "execution_count": 4,
   "metadata": {},
   "outputs": [],
   "source": [
    "w3 = get_w3()"
   ]
  },
  {
   "cell_type": "code",
   "execution_count": 19,
   "metadata": {},
   "outputs": [],
   "source": [
    "address_df = pd.read_csv(data[chain]['nodefile'])\n",
    "transaction_df = pd.read_csv(data[chain]['edgefile'])"
   ]
  },
  {
   "cell_type": "code",
   "execution_count": 22,
   "metadata": {},
   "outputs": [
    {
     "data": {
      "text/plain": [
       "0        0x66D1770bC35097A3859eA9540632f86D05234a72\n",
       "1        0xBf3a82194dd62D7e29b7714a46434AD1578eFDED\n",
       "2        0xdcc3E1F75787593361FB70AfB86996C297F37176\n",
       "3        0x631B7F227EDb710cCD62648718c4d22409773C17\n",
       "4        0x2B5634C42055806a59e9107ED44D43c426E58258\n",
       "                            ...                    \n",
       "33653    0x37775F2dFba6425530D2Bc70D62bE74FEfFDA359\n",
       "33654    0x56FBA6b95321DF366EEf57723667632D16Df610e\n",
       "33655    0xfE72CbeccdE947aD342F6e2a5f3555b1631CBe43\n",
       "33656    0xfE72CbeccdE947aD342F6e2a5f3555b1631CBe43\n",
       "33657    0xfE72CbeccdE947aD342F6e2a5f3555b1631CBe43\n",
       "Length: 67316, dtype: object"
      ]
     },
     "execution_count": 22,
     "metadata": {},
     "output_type": "execute_result"
    }
   ],
   "source": [
    "df = pd.concat([transaction_df['from'], transaction_df['to']])\n",
    "df"
   ]
  }
 ],
 "metadata": {
  "kernelspec": {
   "display_name": "Python 3.9.13 ('blockchain')",
   "language": "python",
   "name": "python3"
  },
  "language_info": {
   "codemirror_mode": {
    "name": "ipython",
    "version": 3
   },
   "file_extension": ".py",
   "mimetype": "text/x-python",
   "name": "python",
   "nbconvert_exporter": "python",
   "pygments_lexer": "ipython3",
   "version": "3.9.13"
  },
  "orig_nbformat": 4,
  "vscode": {
   "interpreter": {
    "hash": "93f22f4d4f0cf103124be230d217caee56206290cfe5f504a87707d671b2908a"
   }
  }
 },
 "nbformat": 4,
 "nbformat_minor": 2
}
